{
 "cells": [
  {
   "cell_type": "markdown",
   "id": "18a81e7f",
   "metadata": {},
   "source": [
    "# Analysis of Yelp Business Intelligence Data\n",
    "## Project 2 by Sofia Shur"
   ]
  },
  {
   "cell_type": "markdown",
   "id": "b8ba2caa",
   "metadata": {},
   "source": [
    "We will analyze a subset of Yelp's business, reviews and user data. This dataset comes to us from Kaggle although we have taken steps to pull this data into a publis s3 bucket: `s3://cis9760-yelpdataset/yelp-light/*business.json`"
   ]
  },
  {
   "cell_type": "markdown",
   "id": "5b26b5a8",
   "metadata": {},
   "source": [
    "# Installation and Initial Setup"
   ]
  },
  {
   "cell_type": "markdown",
   "id": "a4476bf7",
   "metadata": {},
   "source": [
    "Begin by installing the necessary libraries that you may need to conduct your analysis. At the very least, you must install `pandas` and `matplotlib`"
   ]
  },
  {
   "cell_type": "code",
   "execution_count": 1,
   "id": "2482a74b",
   "metadata": {},
   "outputs": [
    {
     "data": {
      "text/html": [
       "Current session configs: <tt>{'conf': {'spark.pyspark.python': 'python3', 'spark.pyspark.virtualenv.enabled': 'true', 'spark.pyspark.virtualenv.type': 'native', 'spark.pyspark.virtualenv.bin.path': '/usr/bin/virtualenv'}, 'kind': 'pyspark'}</tt><br>"
      ],
      "text/plain": [
       "<IPython.core.display.HTML object>"
      ]
     },
     "metadata": {},
     "output_type": "display_data"
    },
    {
     "data": {
      "text/html": [
       "No active sessions."
      ],
      "text/plain": [
       "<IPython.core.display.HTML object>"
      ]
     },
     "metadata": {},
     "output_type": "display_data"
    }
   ],
   "source": [
    "%%info"
   ]
  },
  {
   "cell_type": "code",
   "execution_count": 2,
   "id": "e21c2bb4",
   "metadata": {},
   "outputs": [
    {
     "data": {
      "application/vnd.jupyter.widget-view+json": {
       "model_id": "e2765c955a8d4b43b2c06ef2aa98fa52",
       "version_major": 2,
       "version_minor": 0
      },
      "text/plain": [
       "VBox()"
      ]
     },
     "metadata": {},
     "output_type": "display_data"
    },
    {
     "name": "stdout",
     "output_type": "stream",
     "text": [
      "Starting Spark application\n"
     ]
    },
    {
     "data": {
      "text/html": [
       "<table>\n",
       "<tr><th>ID</th><th>YARN Application ID</th><th>Kind</th><th>State</th><th>Spark UI</th><th>Driver log</th><th>Current session?</th></tr><tr><td>4</td><td>application_1651346511111_0005</td><td>pyspark</td><td>idle</td><td><a target=\"_blank\" href=\"http://ip-172-31-38-13.us-east-2.compute.internal:20888/proxy/application_1651346511111_0005/\">Link</a></td><td><a target=\"_blank\" href=\"http://ip-172-31-32-143.us-east-2.compute.internal:8042/node/containerlogs/container_1651346511111_0005_01_000001/livy\">Link</a></td><td>✔</td></tr></table>"
      ],
      "text/plain": [
       "<IPython.core.display.HTML object>"
      ]
     },
     "metadata": {},
     "output_type": "display_data"
    },
    {
     "data": {
      "application/vnd.jupyter.widget-view+json": {
       "model_id": "",
       "version_major": 2,
       "version_minor": 0
      },
      "text/plain": [
       "FloatProgress(value=0.0, bar_style='info', description='Progress:', layout=Layout(height='25px', width='50%'),…"
      ]
     },
     "metadata": {},
     "output_type": "display_data"
    },
    {
     "name": "stdout",
     "output_type": "stream",
     "text": [
      "SparkSession available as 'spark'.\n"
     ]
    },
    {
     "data": {
      "application/vnd.jupyter.widget-view+json": {
       "model_id": "",
       "version_major": 2,
       "version_minor": 0
      },
      "text/plain": [
       "FloatProgress(value=0.0, bar_style='info', description='Progress:', layout=Layout(height='25px', width='50%'),…"
      ]
     },
     "metadata": {},
     "output_type": "display_data"
    },
    {
     "name": "stdout",
     "output_type": "stream",
     "text": [
      "Collecting pandas==1.0.3\n",
      "  Using cached https://files.pythonhosted.org/packages/4a/6a/94b219b8ea0f2d580169e85ed1edc0163743f55aaeca8a44c2e8fc1e344e/pandas-1.0.3-cp37-cp37m-manylinux1_x86_64.whl\n",
      "Requirement already satisfied: pytz>=2017.2 in /usr/local/lib/python3.7/site-packages (from pandas==1.0.3)\n",
      "Requirement already satisfied: numpy>=1.13.3 in /usr/local/lib64/python3.7/site-packages (from pandas==1.0.3)\n",
      "Collecting python-dateutil>=2.6.1 (from pandas==1.0.3)\n",
      "  Using cached https://files.pythonhosted.org/packages/36/7a/87837f39d0296e723bb9b62bbb257d0355c7f6128853c78955f57342a56d/python_dateutil-2.8.2-py2.py3-none-any.whl\n",
      "Requirement already satisfied: six>=1.5 in /usr/local/lib/python3.7/site-packages (from python-dateutil>=2.6.1->pandas==1.0.3)\n",
      "Installing collected packages: python-dateutil, pandas\n",
      "Successfully installed pandas-1.0.3 python-dateutil-2.8.2\n",
      "\n",
      "Collecting matplotlib==3.2.1\n",
      "  Using cached https://files.pythonhosted.org/packages/b2/c2/71fcf957710f3ba1f09088b35776a799ba7dd95f7c2b195ec800933b276b/matplotlib-3.2.1-cp37-cp37m-manylinux1_x86_64.whl\n",
      "Requirement already satisfied: python-dateutil>=2.1 in /mnt/tmp/1651361685329-0/lib/python3.7/site-packages (from matplotlib==3.2.1)\n",
      "Collecting pyparsing!=2.0.4,!=2.1.2,!=2.1.6,>=2.0.1 (from matplotlib==3.2.1)\n",
      "  Using cached https://files.pythonhosted.org/packages/d9/41/d9cfb4410589805cd787f8a82cddd13142d9bf7449d12adf2d05a4a7d633/pyparsing-3.0.8-py3-none-any.whl\n",
      "Collecting cycler>=0.10 (from matplotlib==3.2.1)\n",
      "  Using cached https://files.pythonhosted.org/packages/5c/f9/695d6bedebd747e5eb0fe8fad57b72fdf25411273a39791cde838d5a8f51/cycler-0.11.0-py3-none-any.whl\n",
      "Requirement already satisfied: numpy>=1.11 in /usr/local/lib64/python3.7/site-packages (from matplotlib==3.2.1)\n",
      "Collecting kiwisolver>=1.0.1 (from matplotlib==3.2.1)\n",
      "  Using cached https://files.pythonhosted.org/packages/51/50/9a9a94afa26c50fc5d9127272737806990aa698c7a1c220b8e5075e70304/kiwisolver-1.4.2-cp37-cp37m-manylinux_2_5_x86_64.manylinux1_x86_64.whl\n",
      "Requirement already satisfied: six>=1.5 in /usr/local/lib/python3.7/site-packages (from python-dateutil>=2.1->matplotlib==3.2.1)\n",
      "Collecting typing-extensions; python_version < \"3.8\" (from kiwisolver>=1.0.1->matplotlib==3.2.1)\n",
      "  Using cached https://files.pythonhosted.org/packages/75/e1/932e06004039dd670c9d5e1df0cd606bf46e29a28e65d5bb28e894ea29c9/typing_extensions-4.2.0-py3-none-any.whl\n",
      "Installing collected packages: pyparsing, cycler, typing-extensions, kiwisolver, matplotlib\n",
      "Successfully installed cycler-0.11.0 kiwisolver-1.4.2 matplotlib-3.2.1 pyparsing-3.0.8 typing-extensions-4.2.0\n",
      "\n",
      "Collecting scipy==1.7.1\n",
      "  Using cached https://files.pythonhosted.org/packages/b5/6b/8bc0b61ebf824f8c3979a31368bbe38dd247590049a994ab0ed077cb56dc/scipy-1.7.1-cp37-cp37m-manylinux_2_5_x86_64.manylinux1_x86_64.whl\n",
      "Requirement already satisfied: numpy<1.23.0,>=1.16.5 in /usr/local/lib64/python3.7/site-packages (from scipy==1.7.1)\n",
      "Installing collected packages: scipy\n",
      "Successfully installed scipy-1.7.1\n",
      "\n",
      "Collecting seaborn==0.11.2\n",
      "  Using cached https://files.pythonhosted.org/packages/10/5b/0479d7d845b5ba410ca702ffcd7f2cd95a14a4dfff1fde2637802b258b9b/seaborn-0.11.2-py3-none-any.whl\n",
      "Requirement already satisfied: numpy>=1.15 in /usr/local/lib64/python3.7/site-packages (from seaborn==0.11.2)\n",
      "Requirement already satisfied: scipy>=1.0 in /mnt/tmp/1651361685329-0/lib/python3.7/site-packages (from seaborn==0.11.2)\n",
      "Requirement already satisfied: matplotlib>=2.2 in /mnt/tmp/1651361685329-0/lib/python3.7/site-packages (from seaborn==0.11.2)\n",
      "Requirement already satisfied: pandas>=0.23 in /mnt/tmp/1651361685329-0/lib/python3.7/site-packages (from seaborn==0.11.2)\n",
      "Requirement already satisfied: python-dateutil>=2.1 in /mnt/tmp/1651361685329-0/lib/python3.7/site-packages (from matplotlib>=2.2->seaborn==0.11.2)\n",
      "Requirement already satisfied: pyparsing!=2.0.4,!=2.1.2,!=2.1.6,>=2.0.1 in /mnt/tmp/1651361685329-0/lib/python3.7/site-packages (from matplotlib>=2.2->seaborn==0.11.2)\n",
      "Requirement already satisfied: cycler>=0.10 in /mnt/tmp/1651361685329-0/lib/python3.7/site-packages (from matplotlib>=2.2->seaborn==0.11.2)\n",
      "Requirement already satisfied: kiwisolver>=1.0.1 in /mnt/tmp/1651361685329-0/lib/python3.7/site-packages (from matplotlib>=2.2->seaborn==0.11.2)\n",
      "Requirement already satisfied: pytz>=2017.2 in /usr/local/lib/python3.7/site-packages (from pandas>=0.23->seaborn==0.11.2)\n",
      "Requirement already satisfied: six>=1.5 in /usr/local/lib/python3.7/site-packages (from python-dateutil>=2.1->matplotlib>=2.2->seaborn==0.11.2)\n",
      "Requirement already satisfied: typing-extensions; python_version < \"3.8\" in /mnt/tmp/1651361685329-0/lib/python3.7/site-packages (from kiwisolver>=1.0.1->matplotlib>=2.2->seaborn==0.11.2)\n",
      "Installing collected packages: seaborn\n",
      "Successfully installed seaborn-0.11.2"
     ]
    }
   ],
   "source": [
    "sc.install_pypi_package(\"pandas==1.0.3\")\n",
    "sc.install_pypi_package(\"matplotlib==3.2.1\")\n",
    "sc.install_pypi_package(\"scipy==1.7.1\")\n",
    "sc.install_pypi_package(\"seaborn==0.11.2\")"
   ]
  },
  {
   "cell_type": "markdown",
   "id": "a6b093ff",
   "metadata": {},
   "source": [
    "## Importing"
   ]
  },
  {
   "cell_type": "markdown",
   "id": "fb96b93e",
   "metadata": {},
   "source": [
    "Now, import the installed packages from the previous block below."
   ]
  },
  {
   "cell_type": "code",
   "execution_count": 3,
   "id": "66008246",
   "metadata": {},
   "outputs": [],
   "source": [
    "%matplotlib inline "
   ]
  },
  {
   "cell_type": "code",
   "execution_count": 4,
   "id": "cf4f3400",
   "metadata": {},
   "outputs": [
    {
     "data": {
      "application/vnd.jupyter.widget-view+json": {
       "model_id": "50edede813f44df48ca1a0476ac5e825",
       "version_major": 2,
       "version_minor": 0
      },
      "text/plain": [
       "VBox()"
      ]
     },
     "metadata": {},
     "output_type": "display_data"
    },
    {
     "data": {
      "application/vnd.jupyter.widget-view+json": {
       "model_id": "",
       "version_major": 2,
       "version_minor": 0
      },
      "text/plain": [
       "FloatProgress(value=0.0, bar_style='info', description='Progress:', layout=Layout(height='25px', width='50%'),…"
      ]
     },
     "metadata": {},
     "output_type": "display_data"
    }
   ],
   "source": [
    "import pandas as pd\n",
    "import numpy as np\n",
    "import matplotlib.pyplot as plt\n",
    "import seaborn as sb\n",
    "import scipy as scp"
   ]
  },
  {
   "cell_type": "markdown",
   "id": "df63a92b",
   "metadata": {},
   "source": [
    "## Loading Data"
   ]
  },
  {
   "cell_type": "markdown",
   "id": "15d8e133",
   "metadata": {},
   "source": [
    "We are finally ready to load data. Using spark load the data from S3 into a dataframe object that we can manipulate further down in our analysis."
   ]
  },
  {
   "cell_type": "code",
   "execution_count": 5,
   "id": "e38c7612",
   "metadata": {
    "scrolled": true
   },
   "outputs": [
    {
     "data": {
      "application/vnd.jupyter.widget-view+json": {
       "model_id": "f3ec2931d93343839cb76212fa33c0a5",
       "version_major": 2,
       "version_minor": 0
      },
      "text/plain": [
       "VBox()"
      ]
     },
     "metadata": {},
     "output_type": "display_data"
    },
    {
     "data": {
      "application/vnd.jupyter.widget-view+json": {
       "model_id": "",
       "version_major": 2,
       "version_minor": 0
      },
      "text/plain": [
       "FloatProgress(value=0.0, bar_style='info', description='Progress:', layout=Layout(height='25px', width='50%'),…"
      ]
     },
     "metadata": {},
     "output_type": "display_data"
    }
   ],
   "source": [
    "business = spark.read.json('s3://project02-data/yelp_academic_dataset_business.json')\n"
   ]
  },
  {
   "cell_type": "code",
   "execution_count": 6,
   "id": "52a552ec",
   "metadata": {
    "scrolled": true
   },
   "outputs": [
    {
     "data": {
      "application/vnd.jupyter.widget-view+json": {
       "model_id": "99e6e54cf44c4078b2302d65bc6d8bb4",
       "version_major": 2,
       "version_minor": 0
      },
      "text/plain": [
       "VBox()"
      ]
     },
     "metadata": {},
     "output_type": "display_data"
    },
    {
     "data": {
      "application/vnd.jupyter.widget-view+json": {
       "model_id": "",
       "version_major": 2,
       "version_minor": 0
      },
      "text/plain": [
       "FloatProgress(value=0.0, bar_style='info', description='Progress:', layout=Layout(height='25px', width='50%'),…"
      ]
     },
     "metadata": {},
     "output_type": "display_data"
    },
    {
     "name": "stdout",
     "output_type": "stream",
     "text": [
      "+--------------------+--------------------+--------------------+--------------------+-------------+--------------------+-------+----------+------------+--------------------+-----------+------------+-----+-----+\n",
      "|             address|          attributes|         business_id|          categories|         city|               hours|is_open|  latitude|   longitude|                name|postal_code|review_count|stars|state|\n",
      "+--------------------+--------------------+--------------------+--------------------+-------------+--------------------+-------+----------+------------+--------------------+-----------+------------+-----+-----+\n",
      "|1616 Chapala St, ...|[,,,,,,,,,,, True...|Pns2l4eNsfO8kk83d...|Doctors, Traditio...|Santa Barbara|                null|      0|34.4266787|-119.7111968|Abby Rappoport, L...|      93101|           7|  5.0|   CA|\n",
      "|87 Grasso Plaza S...|[,,,,,,,,, True,,...|mpf3x-BjTdTEA3yCZ...|Shipping Centers,...|       Affton|[8:0-18:30, 0:0-0...|      1| 38.551126|  -90.335695|       The UPS Store|      63123|          15|  3.0|   MO|\n",
      "|5255 E Broadway Blvd|[,,,,,,, True,, T...|tUFrWirKiKi_TAnsV...|Department Stores...|       Tucson|[8:0-23:0, 8:0-22...|      0| 32.223236| -110.880452|              Target|      85711|          22|  3.5|   AZ|\n",
      "|         935 Race St|[,, u'none',,,,, ...|MTSW4McQd7CbVtyjq...|Restaurants, Food...| Philadelphia|[7:0-21:0, 7:0-20...|      1|39.9555052| -75.1555641|  St Honore Pastries|      19107|          80|  4.0|   PA|\n",
      "|       101 Walnut St|[,,,,,,, True,, T...|mWMc6_wTdE0EUBKIG...|Brewpubs, Breweri...|   Green Lane|[12:0-22:0,, 12:0...|      1|40.3381827| -75.4716585|Perkiomen Valley ...|      18054|          13|  4.5|   PA|\n",
      "+--------------------+--------------------+--------------------+--------------------+-------------+--------------------+-------+----------+------------+--------------------+-----------+------------+-----+-----+\n",
      "only showing top 5 rows"
     ]
    }
   ],
   "source": [
    "business.show(5)"
   ]
  },
  {
   "cell_type": "markdown",
   "id": "7abb866d",
   "metadata": {},
   "source": [
    "# Overview of Data"
   ]
  },
  {
   "cell_type": "markdown",
   "id": "07c787ca",
   "metadata": {},
   "source": [
    "Display the number of rows and columns in our dataset."
   ]
  },
  {
   "cell_type": "code",
   "execution_count": 7,
   "id": "1bc5cee1",
   "metadata": {},
   "outputs": [
    {
     "data": {
      "application/vnd.jupyter.widget-view+json": {
       "model_id": "1e703812a8f94b2289aa7eaa488107d0",
       "version_major": 2,
       "version_minor": 0
      },
      "text/plain": [
       "VBox()"
      ]
     },
     "metadata": {},
     "output_type": "display_data"
    },
    {
     "data": {
      "application/vnd.jupyter.widget-view+json": {
       "model_id": "",
       "version_major": 2,
       "version_minor": 0
      },
      "text/plain": [
       "FloatProgress(value=0.0, bar_style='info', description='Progress:', layout=Layout(height='25px', width='50%'),…"
      ]
     },
     "metadata": {},
     "output_type": "display_data"
    },
    {
     "name": "stdout",
     "output_type": "stream",
     "text": [
      "Number of rows in the Business table: 150,346\n",
      "Number of columns in the Business table: 14"
     ]
    }
   ],
   "source": [
    "print(f\"Number of rows in the Business table: {business.count():,}\")\n",
    "print(f\"Number of columns in the Business table: {len(business.dtypes)}\")"
   ]
  },
  {
   "cell_type": "markdown",
   "id": "dc29ae82",
   "metadata": {},
   "source": [
    "Display the DataFrame schema below."
   ]
  },
  {
   "cell_type": "code",
   "execution_count": 8,
   "id": "4d9e039a",
   "metadata": {},
   "outputs": [
    {
     "data": {
      "application/vnd.jupyter.widget-view+json": {
       "model_id": "de6fce455903417abc6191f45d5cbcf7",
       "version_major": 2,
       "version_minor": 0
      },
      "text/plain": [
       "VBox()"
      ]
     },
     "metadata": {},
     "output_type": "display_data"
    },
    {
     "data": {
      "application/vnd.jupyter.widget-view+json": {
       "model_id": "",
       "version_major": 2,
       "version_minor": 0
      },
      "text/plain": [
       "FloatProgress(value=0.0, bar_style='info', description='Progress:', layout=Layout(height='25px', width='50%'),…"
      ]
     },
     "metadata": {},
     "output_type": "display_data"
    },
    {
     "name": "stdout",
     "output_type": "stream",
     "text": [
      "root\n",
      " |-- address: string (nullable = true)\n",
      " |-- attributes: struct (nullable = true)\n",
      " |    |-- AcceptsInsurance: string (nullable = true)\n",
      " |    |-- AgesAllowed: string (nullable = true)\n",
      " |    |-- Alcohol: string (nullable = true)\n",
      " |    |-- Ambience: string (nullable = true)\n",
      " |    |-- BYOB: string (nullable = true)\n",
      " |    |-- BYOBCorkage: string (nullable = true)\n",
      " |    |-- BestNights: string (nullable = true)\n",
      " |    |-- BikeParking: string (nullable = true)\n",
      " |    |-- BusinessAcceptsBitcoin: string (nullable = true)\n",
      " |    |-- BusinessAcceptsCreditCards: string (nullable = true)\n",
      " |    |-- BusinessParking: string (nullable = true)\n",
      " |    |-- ByAppointmentOnly: string (nullable = true)\n",
      " |    |-- Caters: string (nullable = true)\n",
      " |    |-- CoatCheck: string (nullable = true)\n",
      " |    |-- Corkage: string (nullable = true)\n",
      " |    |-- DietaryRestrictions: string (nullable = true)\n",
      " |    |-- DogsAllowed: string (nullable = true)\n",
      " |    |-- DriveThru: string (nullable = true)\n",
      " |    |-- GoodForDancing: string (nullable = true)\n",
      " |    |-- GoodForKids: string (nullable = true)\n",
      " |    |-- GoodForMeal: string (nullable = true)\n",
      " |    |-- HairSpecializesIn: string (nullable = true)\n",
      " |    |-- HappyHour: string (nullable = true)\n",
      " |    |-- HasTV: string (nullable = true)\n",
      " |    |-- Music: string (nullable = true)\n",
      " |    |-- NoiseLevel: string (nullable = true)\n",
      " |    |-- Open24Hours: string (nullable = true)\n",
      " |    |-- OutdoorSeating: string (nullable = true)\n",
      " |    |-- RestaurantsAttire: string (nullable = true)\n",
      " |    |-- RestaurantsCounterService: string (nullable = true)\n",
      " |    |-- RestaurantsDelivery: string (nullable = true)\n",
      " |    |-- RestaurantsGoodForGroups: string (nullable = true)\n",
      " |    |-- RestaurantsPriceRange2: string (nullable = true)\n",
      " |    |-- RestaurantsReservations: string (nullable = true)\n",
      " |    |-- RestaurantsTableService: string (nullable = true)\n",
      " |    |-- RestaurantsTakeOut: string (nullable = true)\n",
      " |    |-- Smoking: string (nullable = true)\n",
      " |    |-- WheelchairAccessible: string (nullable = true)\n",
      " |    |-- WiFi: string (nullable = true)\n",
      " |-- business_id: string (nullable = true)\n",
      " |-- categories: string (nullable = true)\n",
      " |-- city: string (nullable = true)\n",
      " |-- hours: struct (nullable = true)\n",
      " |    |-- Friday: string (nullable = true)\n",
      " |    |-- Monday: string (nullable = true)\n",
      " |    |-- Saturday: string (nullable = true)\n",
      " |    |-- Sunday: string (nullable = true)\n",
      " |    |-- Thursday: string (nullable = true)\n",
      " |    |-- Tuesday: string (nullable = true)\n",
      " |    |-- Wednesday: string (nullable = true)\n",
      " |-- is_open: long (nullable = true)\n",
      " |-- latitude: double (nullable = true)\n",
      " |-- longitude: double (nullable = true)\n",
      " |-- name: string (nullable = true)\n",
      " |-- postal_code: string (nullable = true)\n",
      " |-- review_count: long (nullable = true)\n",
      " |-- stars: double (nullable = true)\n",
      " |-- state: string (nullable = true)"
     ]
    }
   ],
   "source": [
    "business.printSchema()\n"
   ]
  },
  {
   "cell_type": "markdown",
   "id": "75278d43",
   "metadata": {},
   "source": [
    "Display the first 5 rows with the following columns:\n",
    "\n",
    "* `business_id`\n",
    "* `name`\n",
    "* `city`\n",
    "* `state`\n",
    "* `categories`"
   ]
  },
  {
   "cell_type": "code",
   "execution_count": 9,
   "id": "95a2a201",
   "metadata": {},
   "outputs": [
    {
     "data": {
      "application/vnd.jupyter.widget-view+json": {
       "model_id": "3a070d804c6145e0a95c51a0d49478f8",
       "version_major": 2,
       "version_minor": 0
      },
      "text/plain": [
       "VBox()"
      ]
     },
     "metadata": {},
     "output_type": "display_data"
    },
    {
     "data": {
      "application/vnd.jupyter.widget-view+json": {
       "model_id": "",
       "version_major": 2,
       "version_minor": 0
      },
      "text/plain": [
       "FloatProgress(value=0.0, bar_style='info', description='Progress:', layout=Layout(height='25px', width='50%'),…"
      ]
     },
     "metadata": {},
     "output_type": "display_data"
    },
    {
     "name": "stdout",
     "output_type": "stream",
     "text": [
      "+--------------------+--------------------+-------------+-----+--------------------+\n",
      "|         business_id|                name|         city|state|          categories|\n",
      "+--------------------+--------------------+-------------+-----+--------------------+\n",
      "|Pns2l4eNsfO8kk83d...|Abby Rappoport, L...|Santa Barbara|   CA|Doctors, Traditio...|\n",
      "|mpf3x-BjTdTEA3yCZ...|       The UPS Store|       Affton|   MO|Shipping Centers,...|\n",
      "|tUFrWirKiKi_TAnsV...|              Target|       Tucson|   AZ|Department Stores...|\n",
      "|MTSW4McQd7CbVtyjq...|  St Honore Pastries| Philadelphia|   PA|Restaurants, Food...|\n",
      "|mWMc6_wTdE0EUBKIG...|Perkiomen Valley ...|   Green Lane|   PA|Brewpubs, Breweri...|\n",
      "+--------------------+--------------------+-------------+-----+--------------------+\n",
      "only showing top 5 rows"
     ]
    }
   ],
   "source": [
    "business.select(\"business_id\", \"name\", \"city\", \"state\", \"categories\").show(5)"
   ]
  },
  {
   "cell_type": "markdown",
   "id": "6fece28f",
   "metadata": {},
   "source": [
    "# Analyzing Categories"
   ]
  },
  {
   "cell_type": "markdown",
   "id": "c6c46d5b",
   "metadata": {},
   "source": [
    "Let's now answer this question: **how many unique categories are represented in this dataset?**\n",
    "\n",
    "Essentially, we have the categories per business as a list - this is useful to quickly see what each business might be represented as but it is difficult to easily answer questions such as:\n",
    "\n",
    "* How many businesses are categorized as `Active Life`, for instance\n",
    "* What are the top 20 most popular categories available?"
   ]
  },
  {
   "cell_type": "markdown",
   "id": "660fba04",
   "metadata": {},
   "source": [
    "## Association Table\n",
    "\n",
    "We need to \"break out\" these categories from the business ids? One common approach to take is to build an association table mapping a single business id multiple times to each distinct category.\n",
    "\n",
    "For instance, given the following:\n",
    "\n",
    "\n",
    "| business_id | categories |\n",
    "|-------------|------------|\n",
    "| abcd123     | a,b,c      |\n",
    "\n",
    "We would like to derive something like:\n",
    "\n",
    "| business_id | category |\n",
    "|-------------|------------|\n",
    "| abcd123     | a          |\n",
    "| abcd123     | b          |\n",
    "| abcd123     | c          |\n",
    "\n",
    "\n",
    "What this does is allow us to then perform a myriad of rollups and other analysis on this association table which can aid us in answering the questions asked above.\n",
    "\n",
    "Implement the code necessary to derive the table described from your original yelp dataframe."
   ]
  },
  {
   "cell_type": "code",
   "execution_count": 10,
   "id": "c0eb22d8",
   "metadata": {},
   "outputs": [
    {
     "data": {
      "application/vnd.jupyter.widget-view+json": {
       "model_id": "9e656330ba8b4dbca00206205aafb56f",
       "version_major": 2,
       "version_minor": 0
      },
      "text/plain": [
       "VBox()"
      ]
     },
     "metadata": {},
     "output_type": "display_data"
    },
    {
     "data": {
      "application/vnd.jupyter.widget-view+json": {
       "model_id": "",
       "version_major": 2,
       "version_minor": 0
      },
      "text/plain": [
       "FloatProgress(value=0.0, bar_style='info', description='Progress:', layout=Layout(height='25px', width='50%'),…"
      ]
     },
     "metadata": {},
     "output_type": "display_data"
    }
   ],
   "source": [
    "# Install the necessary libraries here\n",
    "from pyspark.sql.functions import explode, split"
   ]
  },
  {
   "cell_type": "code",
   "execution_count": 11,
   "id": "ff8d3ecd",
   "metadata": {},
   "outputs": [
    {
     "data": {
      "application/vnd.jupyter.widget-view+json": {
       "model_id": "20c8e636a9944dc9a714ba3caf9b1619",
       "version_major": 2,
       "version_minor": 0
      },
      "text/plain": [
       "VBox()"
      ]
     },
     "metadata": {},
     "output_type": "display_data"
    },
    {
     "data": {
      "application/vnd.jupyter.widget-view+json": {
       "model_id": "",
       "version_major": 2,
       "version_minor": 0
      },
      "text/plain": [
       "FloatProgress(value=0.0, bar_style='info', description='Progress:', layout=Layout(height='25px', width='50%'),…"
      ]
     },
     "metadata": {},
     "output_type": "display_data"
    },
    {
     "name": "stdout",
     "output_type": "stream",
     "text": [
      "+--------------------+--------------------+\n",
      "|         business_id|          categories|\n",
      "+--------------------+--------------------+\n",
      "|Pns2l4eNsfO8kk83d...|Doctors, Traditio...|\n",
      "|mpf3x-BjTdTEA3yCZ...|Shipping Centers,...|\n",
      "|tUFrWirKiKi_TAnsV...|Department Stores...|\n",
      "|MTSW4McQd7CbVtyjq...|Restaurants, Food...|\n",
      "|mWMc6_wTdE0EUBKIG...|Brewpubs, Breweri...|\n",
      "+--------------------+--------------------+\n",
      "only showing top 5 rows"
     ]
    }
   ],
   "source": [
    "dt = business.select(\"business_id\", \"categories\")\n",
    "dt.show(5)"
   ]
  },
  {
   "cell_type": "code",
   "execution_count": 12,
   "id": "dfbad942",
   "metadata": {},
   "outputs": [
    {
     "data": {
      "application/vnd.jupyter.widget-view+json": {
       "model_id": "18fa973109874678ac6f88b26d2c62c6",
       "version_major": 2,
       "version_minor": 0
      },
      "text/plain": [
       "VBox()"
      ]
     },
     "metadata": {},
     "output_type": "display_data"
    },
    {
     "data": {
      "application/vnd.jupyter.widget-view+json": {
       "model_id": "",
       "version_major": 2,
       "version_minor": 0
      },
      "text/plain": [
       "FloatProgress(value=0.0, bar_style='info', description='Progress:', layout=Layout(height='25px', width='50%'),…"
      ]
     },
     "metadata": {},
     "output_type": "display_data"
    }
   ],
   "source": [
    "business_category = dt.withColumn('category',explode(split('categories',\", \")))\n",
    "\n",
    "business_category= business_category.drop(\"categories\")"
   ]
  },
  {
   "cell_type": "markdown",
   "id": "5f92bc49",
   "metadata": {},
   "source": [
    "Display the first 5 rows of your association table below."
   ]
  },
  {
   "cell_type": "code",
   "execution_count": 13,
   "id": "f0e1c1db",
   "metadata": {},
   "outputs": [
    {
     "data": {
      "application/vnd.jupyter.widget-view+json": {
       "model_id": "524d494e9ec34517b8cf70d2e234247b",
       "version_major": 2,
       "version_minor": 0
      },
      "text/plain": [
       "VBox()"
      ]
     },
     "metadata": {},
     "output_type": "display_data"
    },
    {
     "data": {
      "application/vnd.jupyter.widget-view+json": {
       "model_id": "",
       "version_major": 2,
       "version_minor": 0
      },
      "text/plain": [
       "FloatProgress(value=0.0, bar_style='info', description='Progress:', layout=Layout(height='25px', width='50%'),…"
      ]
     },
     "metadata": {},
     "output_type": "display_data"
    },
    {
     "name": "stdout",
     "output_type": "stream",
     "text": [
      "+--------------------+--------------------+\n",
      "|         business_id|            category|\n",
      "+--------------------+--------------------+\n",
      "|Pns2l4eNsfO8kk83d...|             Doctors|\n",
      "|Pns2l4eNsfO8kk83d...|Traditional Chine...|\n",
      "|Pns2l4eNsfO8kk83d...|Naturopathic/Holi...|\n",
      "|Pns2l4eNsfO8kk83d...|         Acupuncture|\n",
      "|Pns2l4eNsfO8kk83d...|    Health & Medical|\n",
      "+--------------------+--------------------+\n",
      "only showing top 5 rows"
     ]
    }
   ],
   "source": [
    "business_category.show(5)\n"
   ]
  },
  {
   "cell_type": "markdown",
   "id": "0d0c598a",
   "metadata": {},
   "source": [
    "# Total Unique Categories"
   ]
  },
  {
   "cell_type": "markdown",
   "id": "64649a62",
   "metadata": {},
   "source": [
    "Finally, we are ready to answer the question: **what is the total number of unique categories available?**\n",
    "\n",
    "Below, implement the code necessary to calculate this figure."
   ]
  },
  {
   "cell_type": "code",
   "execution_count": 14,
   "id": "56df0fa4",
   "metadata": {},
   "outputs": [
    {
     "data": {
      "application/vnd.jupyter.widget-view+json": {
       "model_id": "d2237ceab7684465b5384a8924efc859",
       "version_major": 2,
       "version_minor": 0
      },
      "text/plain": [
       "VBox()"
      ]
     },
     "metadata": {},
     "output_type": "display_data"
    },
    {
     "data": {
      "application/vnd.jupyter.widget-view+json": {
       "model_id": "",
       "version_major": 2,
       "version_minor": 0
      },
      "text/plain": [
       "FloatProgress(value=0.0, bar_style='info', description='Progress:', layout=Layout(height='25px', width='50%'),…"
      ]
     },
     "metadata": {},
     "output_type": "display_data"
    },
    {
     "name": "stdout",
     "output_type": "stream",
     "text": [
      "1311"
     ]
    }
   ],
   "source": [
    "from pyspark.sql.functions import countDistinct\n",
    "business_category.select(countDistinct(\"category\")).collect()[0][0]\n"
   ]
  },
  {
   "cell_type": "markdown",
   "id": "8d0c0f03",
   "metadata": {},
   "source": [
    "## Top Categories By Business\n",
    "\n",
    "Now let's find the top categories in this dataset by rolling up categories."
   ]
  },
  {
   "cell_type": "markdown",
   "id": "7849d334",
   "metadata": {},
   "source": [
    "### Counts of Businesses / Category"
   ]
  },
  {
   "cell_type": "markdown",
   "id": "a6712312",
   "metadata": {},
   "source": [
    "So now, let's unroll our distinct count a bit and display the per count value of businesses per category.\n",
    "\n",
    "The expected output should be:\n",
    "\n",
    "| category | count |\n",
    "|-------------|------------|\n",
    "| a     | 15         |\n",
    "| b     | 2          |\n",
    "| c     | 45          |\n",
    "\n",
    "Or something to that effect."
   ]
  },
  {
   "cell_type": "code",
   "execution_count": 15,
   "id": "e3c9df77",
   "metadata": {},
   "outputs": [
    {
     "data": {
      "application/vnd.jupyter.widget-view+json": {
       "model_id": "effc684e412c4e399d14e38436214cbb",
       "version_major": 2,
       "version_minor": 0
      },
      "text/plain": [
       "VBox()"
      ]
     },
     "metadata": {},
     "output_type": "display_data"
    },
    {
     "data": {
      "application/vnd.jupyter.widget-view+json": {
       "model_id": "",
       "version_major": 2,
       "version_minor": 0
      },
      "text/plain": [
       "FloatProgress(value=0.0, bar_style='info', description='Progress:', layout=Layout(height='25px', width='50%'),…"
      ]
     },
     "metadata": {},
     "output_type": "display_data"
    },
    {
     "name": "stdout",
     "output_type": "stream",
     "text": [
      "+--------------------+-----+\n",
      "|            category|count|\n",
      "+--------------------+-----+\n",
      "|      Dermatologists|  336|\n",
      "|      Paddleboarding|   98|\n",
      "|        Aerial Tours|   12|\n",
      "|Faith-based Crisi...|    1|\n",
      "|         Hobby Shops|  552|\n",
      "|          Bubble Tea|  477|\n",
      "|            Handyman|  356|\n",
      "|             Tanning|  667|\n",
      "|      Aerial Fitness|   19|\n",
      "|             Falafel|  103|\n",
      "|        Summer Camps|  232|\n",
      "|       Outlet Stores|  182|\n",
      "|     Clothing Rental|   37|\n",
      "|      Sporting Goods| 1662|\n",
      "|     Cooking Schools|   76|\n",
      "|  Lactation Services|   27|\n",
      "|Ski & Snowboard S...|   40|\n",
      "|             Museums|  413|\n",
      "|              Doulas|   31|\n",
      "|     Baseball Fields|   14|\n",
      "+--------------------+-----+\n",
      "only showing top 20 rows"
     ]
    }
   ],
   "source": [
    "from pyspark.sql.functions import count, col\n",
    "dt2 = business_category.groupBy(\"category\")\n",
    "dt2.count().show()"
   ]
  },
  {
   "cell_type": "markdown",
   "id": "d0edd80e",
   "metadata": {},
   "source": [
    "### Bar Chart of Top Categories\n",
    "\n",
    "With this data available, let us now build a barchart of the top 20 categories. \n",
    "\n",
    "**HINT**: don't forget about the matplotlib magic!\n",
    "\n",
    "```\n",
    "%matplot plt\n",
    "```\n",
    "\n",
    "If you want, you can also use seaborn library"
   ]
  },
  {
   "cell_type": "code",
   "execution_count": 16,
   "id": "2eda51d2",
   "metadata": {},
   "outputs": [
    {
     "data": {
      "application/vnd.jupyter.widget-view+json": {
       "model_id": "1202c03913e3401eaec89ababf36a43e",
       "version_major": 2,
       "version_minor": 0
      },
      "text/plain": [
       "VBox()"
      ]
     },
     "metadata": {},
     "output_type": "display_data"
    },
    {
     "data": {
      "application/vnd.jupyter.widget-view+json": {
       "model_id": "",
       "version_major": 2,
       "version_minor": 0
      },
      "text/plain": [
       "FloatProgress(value=0.0, bar_style='info', description='Progress:', layout=Layout(height='25px', width='50%'),…"
      ]
     },
     "metadata": {},
     "output_type": "display_data"
    },
    {
     "name": "stdout",
     "output_type": "stream",
     "text": [
      "+--------------------+-----+\n",
      "|            category|count|\n",
      "+--------------------+-----+\n",
      "|         Restaurants|52268|\n",
      "|                Food|27781|\n",
      "|            Shopping|24395|\n",
      "|       Home Services|14356|\n",
      "|       Beauty & Spas|14292|\n",
      "|           Nightlife|12281|\n",
      "|    Health & Medical|11890|\n",
      "|      Local Services|11198|\n",
      "|                Bars|11065|\n",
      "|          Automotive|10773|\n",
      "|Event Planning & ...| 9895|\n",
      "|          Sandwiches| 8366|\n",
      "|American (Traditi...| 8139|\n",
      "|         Active Life| 7687|\n",
      "|               Pizza| 7093|\n",
      "|        Coffee & Tea| 6703|\n",
      "|           Fast Food| 6472|\n",
      "|  Breakfast & Brunch| 6239|\n",
      "|      American (New)| 6097|\n",
      "|     Hotels & Travel| 5857|\n",
      "+--------------------+-----+\n",
      "only showing top 20 rows"
     ]
    }
   ],
   "source": [
    "top_cat = dt2.count().sort(\"count\", ascending = False)\n",
    "top_cat.show()"
   ]
  },
  {
   "cell_type": "code",
   "execution_count": 17,
   "id": "a49a997f",
   "metadata": {},
   "outputs": [
    {
     "data": {
      "application/vnd.jupyter.widget-view+json": {
       "model_id": "ce9510b71a794c0a96241d7f98b95172",
       "version_major": 2,
       "version_minor": 0
      },
      "text/plain": [
       "VBox()"
      ]
     },
     "metadata": {},
     "output_type": "display_data"
    },
    {
     "data": {
      "application/vnd.jupyter.widget-view+json": {
       "model_id": "",
       "version_major": 2,
       "version_minor": 0
      },
      "text/plain": [
       "FloatProgress(value=0.0, bar_style='info', description='Progress:', layout=Layout(height='25px', width='50%'),…"
      ]
     },
     "metadata": {},
     "output_type": "display_data"
    }
   ],
   "source": [
    "business_category.createOrReplaceTempView('Top_20')\n",
    "sqldf = spark.sql(\n",
    "\n",
    "'''\n",
    "SELECT `category`, COUNT ( `category`) as most_popular_category FROM Top_20\n",
    "GROUP BY `category`\n",
    "ORDER BY most_popular_category DESC\n",
    "LIMIT 20\n",
    "'''\n",
    ")\n"
   ]
  },
  {
   "cell_type": "code",
   "execution_count": 18,
   "id": "587f1fa7",
   "metadata": {
    "scrolled": true
   },
   "outputs": [
    {
     "data": {
      "application/vnd.jupyter.widget-view+json": {
       "model_id": "d357a3e1ad6d4231a09a35034f8b2c88",
       "version_major": 2,
       "version_minor": 0
      },
      "text/plain": [
       "VBox()"
      ]
     },
     "metadata": {},
     "output_type": "display_data"
    },
    {
     "data": {
      "application/vnd.jupyter.widget-view+json": {
       "model_id": "",
       "version_major": 2,
       "version_minor": 0
      },
      "text/plain": [
       "FloatProgress(value=0.0, bar_style='info', description='Progress:', layout=Layout(height='25px', width='50%'),…"
      ]
     },
     "metadata": {},
     "output_type": "display_data"
    },
    {
     "data": {
      "image/png": "[encoded data removed]",
      "text/plain": [
       "<IPython.core.display.Image object>"
      ]
     },
     "metadata": {},
     "output_type": "display_data"
    }
   ],
   "source": [
    "sqldf.toPandas().plot(kind ='bar', x ='category', figsize =(12,12))\n",
    "%matplot plt\n"
   ]
  },
  {
   "cell_type": "markdown",
   "id": "92ae5f22",
   "metadata": {},
   "source": [
    "## Loading User Data\n",
    "\n",
    "Begin by loading the user data set from S3 and printing schema to determine what data is available. `s3://cis9760-yelpdataset/yelp-light/*review.json`"
   ]
  },
  {
   "cell_type": "code",
   "execution_count": 19,
   "id": "d148683a",
   "metadata": {},
   "outputs": [
    {
     "data": {
      "application/vnd.jupyter.widget-view+json": {
       "model_id": "b55f9f7a503448b49a361a717761f648",
       "version_major": 2,
       "version_minor": 0
      },
      "text/plain": [
       "VBox()"
      ]
     },
     "metadata": {},
     "output_type": "display_data"
    },
    {
     "data": {
      "application/vnd.jupyter.widget-view+json": {
       "model_id": "",
       "version_major": 2,
       "version_minor": 0
      },
      "text/plain": [
       "FloatProgress(value=0.0, bar_style='info', description='Progress:', layout=Layout(height='25px', width='50%'),…"
      ]
     },
     "metadata": {},
     "output_type": "display_data"
    }
   ],
   "source": [
    "review = spark.read.json('s3://project02-data/yelp_academic_dataset_review.json')"
   ]
  },
  {
   "cell_type": "code",
   "execution_count": 20,
   "id": "eefe93f3",
   "metadata": {},
   "outputs": [
    {
     "data": {
      "application/vnd.jupyter.widget-view+json": {
       "model_id": "e81fefd69e6a4a789863d0e9a900432c",
       "version_major": 2,
       "version_minor": 0
      },
      "text/plain": [
       "VBox()"
      ]
     },
     "metadata": {},
     "output_type": "display_data"
    },
    {
     "data": {
      "application/vnd.jupyter.widget-view+json": {
       "model_id": "",
       "version_major": 2,
       "version_minor": 0
      },
      "text/plain": [
       "FloatProgress(value=0.0, bar_style='info', description='Progress:', layout=Layout(height='25px', width='50%'),…"
      ]
     },
     "metadata": {},
     "output_type": "display_data"
    },
    {
     "name": "stdout",
     "output_type": "stream",
     "text": [
      "root\n",
      " |-- business_id: string (nullable = true)\n",
      " |-- cool: long (nullable = true)\n",
      " |-- date: string (nullable = true)\n",
      " |-- funny: long (nullable = true)\n",
      " |-- review_id: string (nullable = true)\n",
      " |-- stars: double (nullable = true)\n",
      " |-- text: string (nullable = true)\n",
      " |-- useful: long (nullable = true)\n",
      " |-- user_id: string (nullable = true)"
     ]
    }
   ],
   "source": [
    "review.printSchema()"
   ]
  },
  {
   "cell_type": "markdown",
   "id": "452fa31b",
   "metadata": {},
   "source": [
    "Let's begin by listing the `business_id` and `stars` columns together for the user reviews data."
   ]
  },
  {
   "cell_type": "code",
   "execution_count": 21,
   "id": "a523694d",
   "metadata": {},
   "outputs": [
    {
     "data": {
      "application/vnd.jupyter.widget-view+json": {
       "model_id": "09ee090acc4b407da2aeb9ed9372ea12",
       "version_major": 2,
       "version_minor": 0
      },
      "text/plain": [
       "VBox()"
      ]
     },
     "metadata": {},
     "output_type": "display_data"
    },
    {
     "data": {
      "application/vnd.jupyter.widget-view+json": {
       "model_id": "",
       "version_major": 2,
       "version_minor": 0
      },
      "text/plain": [
       "FloatProgress(value=0.0, bar_style='info', description='Progress:', layout=Layout(height='25px', width='50%'),…"
      ]
     },
     "metadata": {},
     "output_type": "display_data"
    },
    {
     "name": "stdout",
     "output_type": "stream",
     "text": [
      "+--------------------+-----+\n",
      "|         business_id|stars|\n",
      "+--------------------+-----+\n",
      "|XQfwVwDr-v0ZS3_Cb...|  3.0|\n",
      "|7ATYjTIgM3jUlt4UM...|  5.0|\n",
      "|YjUWPpI6HXG530lwP...|  3.0|\n",
      "|kxX2SOes4o-D3ZQBk...|  5.0|\n",
      "|e4Vwtrqf-wpJfwesg...|  4.0|\n",
      "+--------------------+-----+\n",
      "only showing top 5 rows"
     ]
    }
   ],
   "source": [
    "user_review = review.select(\"business_id\", \"stars\")\n",
    "user_review.show(5)"
   ]
  },
  {
   "cell_type": "markdown",
   "id": "dc41a14e",
   "metadata": {},
   "source": [
    "Now, let's aggregate along the `stars` column to get a resultant dataframe that displays _average stars_ per business as accumulated by users who **took the time to submit a written review**."
   ]
  },
  {
   "cell_type": "code",
   "execution_count": 22,
   "id": "280a34fb",
   "metadata": {},
   "outputs": [
    {
     "data": {
      "application/vnd.jupyter.widget-view+json": {
       "model_id": "16fdcb55dd1f43479d83443f1397b4e1",
       "version_major": 2,
       "version_minor": 0
      },
      "text/plain": [
       "VBox()"
      ]
     },
     "metadata": {},
     "output_type": "display_data"
    },
    {
     "data": {
      "application/vnd.jupyter.widget-view+json": {
       "model_id": "",
       "version_major": 2,
       "version_minor": 0
      },
      "text/plain": [
       "FloatProgress(value=0.0, bar_style='info', description='Progress:', layout=Layout(height='25px', width='50%'),…"
      ]
     },
     "metadata": {},
     "output_type": "display_data"
    },
    {
     "name": "stdout",
     "output_type": "stream",
     "text": [
      "Submitted written review: 6,990,280\n",
      "No written review submitted: 0"
     ]
    }
   ],
   "source": [
    "#to check if our data has users that did not write a review.\n",
    "print(f\"Submitted written review: {review.filter(review.text.isNotNull()).count():,}\")\n",
    "print(f\"No written review submitted: {review.filter(review.text.isNull()).count():,}\")"
   ]
  },
  {
   "cell_type": "code",
   "execution_count": 23,
   "id": "d3b7e173",
   "metadata": {},
   "outputs": [
    {
     "data": {
      "application/vnd.jupyter.widget-view+json": {
       "model_id": "d72ddb74b3f647ca9a9c195c8ecae155",
       "version_major": 2,
       "version_minor": 0
      },
      "text/plain": [
       "VBox()"
      ]
     },
     "metadata": {},
     "output_type": "display_data"
    },
    {
     "data": {
      "application/vnd.jupyter.widget-view+json": {
       "model_id": "",
       "version_major": 2,
       "version_minor": 0
      },
      "text/plain": [
       "FloatProgress(value=0.0, bar_style='info', description='Progress:', layout=Layout(height='25px', width='50%'),…"
      ]
     },
     "metadata": {},
     "output_type": "display_data"
    },
    {
     "name": "stdout",
     "output_type": "stream",
     "text": [
      "+--------------------+------------------+\n",
      "|         business_id|        avg(stars)|\n",
      "+--------------------+------------------+\n",
      "|HSzSGdcNaU7heQe0N...|3.3333333333333335|\n",
      "|skW4boArIApRw9DXK...|2.3947368421052633|\n",
      "|zJErbOQMKX-MwHs_u...|2.9279279279279278|\n",
      "|I0053JmJ5DEFUWSJ8...|2.3956043956043955|\n",
      "|wS-SWAa_yaJAw6fJm...| 3.357142857142857|\n",
      "+--------------------+------------------+\n",
      "only showing top 5 rows"
     ]
    }
   ],
   "source": [
    "avg_star = user_review.groupBy(\"business_id\").avg(\"stars\")\n",
    "avg_star.show(5)"
   ]
  },
  {
   "cell_type": "markdown",
   "id": "b9d9d81b",
   "metadata": {},
   "source": [
    "Now the fun part - let's join our two dataframes (reviews and business data) by `business_id`. "
   ]
  },
  {
   "cell_type": "code",
   "execution_count": 24,
   "id": "66297946",
   "metadata": {},
   "outputs": [
    {
     "data": {
      "application/vnd.jupyter.widget-view+json": {
       "model_id": "8f64df7227fb45299205dd3d985aa401",
       "version_major": 2,
       "version_minor": 0
      },
      "text/plain": [
       "VBox()"
      ]
     },
     "metadata": {},
     "output_type": "display_data"
    },
    {
     "data": {
      "application/vnd.jupyter.widget-view+json": {
       "model_id": "",
       "version_major": 2,
       "version_minor": 0
      },
      "text/plain": [
       "FloatProgress(value=0.0, bar_style='info', description='Progress:', layout=Layout(height='25px', width='50%'),…"
      ]
     },
     "metadata": {},
     "output_type": "display_data"
    }
   ],
   "source": [
    "bus = business.select(\"business_id\", \"name\", \"city\", \"state\", \"stars\")\n",
    "rev = avg_star.select(\"business_id\", \"avg(stars)\")\n",
    "combined = bus.join(rev, bus.business_id == rev.business_id)\n",
    "comb = combined.drop(\"business_id\")\n"
   ]
  },
  {
   "cell_type": "markdown",
   "id": "6e6f4f13",
   "metadata": {},
   "source": [
    "Let's see a few of these:"
   ]
  },
  {
   "cell_type": "code",
   "execution_count": 25,
   "id": "4f20608f",
   "metadata": {},
   "outputs": [
    {
     "data": {
      "application/vnd.jupyter.widget-view+json": {
       "model_id": "df0b56a7b09045e3a43678bf380f38f0",
       "version_major": 2,
       "version_minor": 0
      },
      "text/plain": [
       "VBox()"
      ]
     },
     "metadata": {},
     "output_type": "display_data"
    },
    {
     "data": {
      "application/vnd.jupyter.widget-view+json": {
       "model_id": "",
       "version_major": 2,
       "version_minor": 0
      },
      "text/plain": [
       "FloatProgress(value=0.0, bar_style='info', description='Progress:', layout=Layout(height='25px', width='50%'),…"
      ]
     },
     "metadata": {},
     "output_type": "display_data"
    },
    {
     "name": "stdout",
     "output_type": "stream",
     "text": [
      "+--------------------+------------+-----+------------------+-----+\n",
      "|                name|        city|state|        avg(stars)|stars|\n",
      "+--------------------+------------+-----+------------------+-----+\n",
      "|Philadelphia Marr...|Philadelphia|   PA|2.9279279279279278|  3.0|\n",
      "|Gaetano's of West...| West Berlin|   NJ|2.8823529411764706|  3.0|\n",
      "|Gillane's Bar & G...|     Ardmore|   PA|3.3333333333333335|  3.0|\n",
      "|Champps Penn's La...|Philadelphia|   PA|2.3947368421052633|  2.5|\n",
      "|Golden Corral Buf...|      Tucson|   AZ|2.3956043956043955|  2.5|\n",
      "+--------------------+------------+-----+------------------+-----+\n",
      "only showing top 5 rows"
     ]
    }
   ],
   "source": [
    "comb=comb.select(\"name\", \"city\", \"state\", \"avg(stars)\",\"stars\")\n",
    "comb.show(5)"
   ]
  },
  {
   "cell_type": "markdown",
   "id": "765bcea0",
   "metadata": {},
   "source": [
    "Compute a new dataframe that calculates what we will call the _skew_ (for lack of a better word) between the avg stars accumulated from written reviews and the _actual_ star rating of a business (ie: the average of stars given by reviewers who wrote an actual review **and** reviewers who just provided a star rating).\n",
    "\n",
    "The formula you can use is something like:\n",
    "\n",
    "```\n",
    "(row['avg(stars)'] - row['stars']) / row['stars']\n",
    "```\n",
    "\n",
    "If the **skew** is negative, we can interpret that to be: reviewers who left a written response were more dissatisfied than normal. If **skew** is positive, we can interpret that to be: reviewers who left a written response were more satisfied than normal."
   ]
  },
  {
   "cell_type": "code",
   "execution_count": 26,
   "id": "88990f2a",
   "metadata": {},
   "outputs": [
    {
     "data": {
      "application/vnd.jupyter.widget-view+json": {
       "model_id": "227cec6a4f8c41baa821798a0b54f1ca",
       "version_major": 2,
       "version_minor": 0
      },
      "text/plain": [
       "VBox()"
      ]
     },
     "metadata": {},
     "output_type": "display_data"
    },
    {
     "data": {
      "application/vnd.jupyter.widget-view+json": {
       "model_id": "",
       "version_major": 2,
       "version_minor": 0
      },
      "text/plain": [
       "FloatProgress(value=0.0, bar_style='info', description='Progress:', layout=Layout(height='25px', width='50%'),…"
      ]
     },
     "metadata": {},
     "output_type": "display_data"
    }
   ],
   "source": [
    "comb = comb.withColumn('skew', ( comb['avg(stars)'] - comb['stars'] ) / comb['stars'] )"
   ]
  },
  {
   "cell_type": "code",
   "execution_count": 27,
   "id": "feb8efa4",
   "metadata": {},
   "outputs": [
    {
     "data": {
      "application/vnd.jupyter.widget-view+json": {
       "model_id": "5a2c93e10fdd40c7981fda9b27428bf4",
       "version_major": 2,
       "version_minor": 0
      },
      "text/plain": [
       "VBox()"
      ]
     },
     "metadata": {},
     "output_type": "display_data"
    },
    {
     "data": {
      "application/vnd.jupyter.widget-view+json": {
       "model_id": "",
       "version_major": 2,
       "version_minor": 0
      },
      "text/plain": [
       "FloatProgress(value=0.0, bar_style='info', description='Progress:', layout=Layout(height='25px', width='50%'),…"
      ]
     },
     "metadata": {},
     "output_type": "display_data"
    },
    {
     "name": "stdout",
     "output_type": "stream",
     "text": [
      "+--------------------+------------+-----+------------------+-----+--------------------+\n",
      "|                name|        city|state|        avg(stars)|stars|                skew|\n",
      "+--------------------+------------+-----+------------------+-----+--------------------+\n",
      "|Gillane's Bar & G...|     Ardmore|   PA|3.3333333333333335|  3.0| 0.11111111111111116|\n",
      "|Champps Penn's La...|Philadelphia|   PA|2.3947368421052633|  2.5|-0.04210526315789469|\n",
      "|Philadelphia Marr...|Philadelphia|   PA|2.9279279279279278|  3.0|-0.02402402402402...|\n",
      "|Golden Corral Buf...|      Tucson|   AZ|2.3956043956043955|  2.5|-0.04175824175824179|\n",
      "|  Swiss Watch Center|       Tampa|   FL| 3.357142857142857|  3.5|-0.04081632653061223|\n",
      "+--------------------+------------+-----+------------------+-----+--------------------+\n",
      "only showing top 5 rows"
     ]
    }
   ],
   "source": [
    "comb.show(5)"
   ]
  },
  {
   "cell_type": "code",
   "execution_count": 28,
   "id": "5f48d0e7",
   "metadata": {},
   "outputs": [
    {
     "data": {
      "application/vnd.jupyter.widget-view+json": {
       "model_id": "adf7d5c05bf14c48ae5d04931bfc651b",
       "version_major": 2,
       "version_minor": 0
      },
      "text/plain": [
       "VBox()"
      ]
     },
     "metadata": {},
     "output_type": "display_data"
    },
    {
     "data": {
      "application/vnd.jupyter.widget-view+json": {
       "model_id": "",
       "version_major": 2,
       "version_minor": 0
      },
      "text/plain": [
       "FloatProgress(value=0.0, bar_style='info', description='Progress:', layout=Layout(height='25px', width='50%'),…"
      ]
     },
     "metadata": {},
     "output_type": "display_data"
    },
    {
     "name": "stdout",
     "output_type": "stream",
     "text": [
      "            skew\n",
      "0      -0.024024\n",
      "1      -0.039216\n",
      "2       0.111111\n",
      "3      -0.042105\n",
      "4      -0.041758\n",
      "...          ...\n",
      "150341  0.000000\n",
      "150342  0.000000\n",
      "150343 -0.166667\n",
      "150344  0.000000\n",
      "150345  0.010101\n",
      "\n",
      "[150346 rows x 1 columns]"
     ]
    }
   ],
   "source": [
    "pdf = comb.select(\"skew\")\n",
    "pdf = pdf.toPandas()\n",
    "pdf\n"
   ]
  },
  {
   "cell_type": "markdown",
   "id": "a3079e27",
   "metadata": {},
   "source": [
    "And finally, graph it!"
   ]
  },
  {
   "cell_type": "code",
   "execution_count": 29,
   "id": "6cb3c67f",
   "metadata": {},
   "outputs": [
    {
     "data": {
      "application/vnd.jupyter.widget-view+json": {
       "model_id": "f152e516a6274e3fbf519deef6c261b9",
       "version_major": 2,
       "version_minor": 0
      },
      "text/plain": [
       "VBox()"
      ]
     },
     "metadata": {},
     "output_type": "display_data"
    },
    {
     "data": {
      "application/vnd.jupyter.widget-view+json": {
       "model_id": "",
       "version_major": 2,
       "version_minor": 0
      },
      "text/plain": [
       "FloatProgress(value=0.0, bar_style='info', description='Progress:', layout=Layout(height='25px', width='50%'),…"
      ]
     },
     "metadata": {},
     "output_type": "display_data"
    },
    {
     "data": {
      "image/png": "[encoded data removed]",
      "text/plain": [
       "<IPython.core.display.Image object>"
      ]
     },
     "metadata": {},
     "output_type": "display_data"
    }
   ],
   "source": [
    "plt.figure(figsize =(10,6))\n",
    "from scipy.stats import norm\n",
    "sb.distplot(pdf, axlabel='Skew', kde=True).set(title='Yelp Review Skew')\n",
    "%matplot plt"
   ]
  },
  {
   "cell_type": "code",
   "execution_count": 30,
   "id": "1b07d045",
   "metadata": {
    "scrolled": true
   },
   "outputs": [
    {
     "data": {
      "application/vnd.jupyter.widget-view+json": {
       "model_id": "cbbbe2418d49448ea9072e2a06c0fad2",
       "version_major": 2,
       "version_minor": 0
      },
      "text/plain": [
       "VBox()"
      ]
     },
     "metadata": {},
     "output_type": "display_data"
    },
    {
     "data": {
      "application/vnd.jupyter.widget-view+json": {
       "model_id": "",
       "version_major": 2,
       "version_minor": 0
      },
      "text/plain": [
       "FloatProgress(value=0.0, bar_style='info', description='Progress:', layout=Layout(height='25px', width='50%'),…"
      ]
     },
     "metadata": {},
     "output_type": "display_data"
    },
    {
     "data": {
      "image/png": "[encoded data removed]",
      "text/plain": [
       "<IPython.core.display.Image object>"
      ]
     },
     "metadata": {},
     "output_type": "display_data"
    }
   ],
   "source": [
    "#To check against normal distribution\n",
    "plt.figure(figsize=(10,6))\n",
    "from scipy.stats import norm\n",
    "sb.distplot(pdf, axlabel='Skew', fit = norm, kde=True).set(title='Yelp Review Skew')\n",
    "%matplot plt"
   ]
  },
  {
   "cell_type": "markdown",
   "id": "4d4e14f4",
   "metadata": {},
   "source": [
    "So, do Yelp (written) Reviews skew negative? Does this analysis actually prove anything? Expound on implications / interpretations of this graph. "
   ]
  },
  {
   "cell_type": "markdown",
   "id": "d55ca1ed",
   "metadata": {},
   "source": [
    "### ANSWER: \n"
   ]
  },
  {
   "cell_type": "markdown",
   "id": "2592b140",
   "metadata": {},
   "source": [
    "Yes, Yelp reviews skew negative.The distribution of written reviews/skew curve (in blue) is non-symmetric comparing to the bell-shaped curve (in black) for symmetric distribution. The plot of the Skew distribution does not have a well-defined center of data distribution that implies to a satisfaction rate differences between reviewers who wrote an actual review and reviewers who just provided a star rating. It is \"skewed left\" which means that reviewers who wrote an actual review are generally more pessimistic as compared to the overall business rating. "
   ]
  },
  {
   "cell_type": "markdown",
   "id": "79ee4874",
   "metadata": {},
   "source": [
    "### IMPLICATIONS:"
   ]
  },
  {
   "cell_type": "markdown",
   "id": "9c0ad9fb",
   "metadata": {},
   "source": [
    "Sometimes it is a more convenient way of resolving or escalating issues directly to a business owner/manager by proving feedbacks on Yelp. Hypothetically, customers who wrote an actual review probably were dissatisfied with the business and spent some time on writing a review on Yelp as a way to inform the business management. On contrary, customers that were satisfied with the business and had no issues with service/product usually have no incentives to write a good review unless it is paid or rewarded. Therefore, a slight negative difference in ratings between written reviews and \"a star rating without a written review\" could exist. It might not necessarily related directly to reviewers who wrote an actual review as more pessimistic. They had an incentive to write their review in order to communicate the issue to the business directly on Yelp. In this case, when the overall rating of the business is better, the business rating could be a better metric for business evaluation and customer satisfaction. My plot interpretation above requires additional data analysis on reviewers' rating and written reviews to confirm my skew graph interpretation."
   ]
  },
  {
   "cell_type": "markdown",
   "id": "c7c74345",
   "metadata": {},
   "source": [
    "# Should the Elite be Trusted?"
   ]
  },
  {
   "cell_type": "markdown",
   "id": "ed348510",
   "metadata": {},
   "source": [
    "How accurate or close are the ratings of an \"elite\" user (check Users table schema) vs the actual business rating? `s3://cis9760-yelpdataset/yelp-light/*user.json`\n",
    "\n",
    "Feel free to use any and all methodologies at your disposal. \n",
    "You must render one visualization in your analysis and interpret your findings."
   ]
  },
  {
   "cell_type": "code",
   "execution_count": 31,
   "id": "d3d08cca",
   "metadata": {},
   "outputs": [
    {
     "data": {
      "application/vnd.jupyter.widget-view+json": {
       "model_id": "2c783b788f2b40a8bb5ee32b384d76b9",
       "version_major": 2,
       "version_minor": 0
      },
      "text/plain": [
       "VBox()"
      ]
     },
     "metadata": {},
     "output_type": "display_data"
    },
    {
     "data": {
      "application/vnd.jupyter.widget-view+json": {
       "model_id": "",
       "version_major": 2,
       "version_minor": 0
      },
      "text/plain": [
       "FloatProgress(value=0.0, bar_style='info', description='Progress:', layout=Layout(height='25px', width='50%'),…"
      ]
     },
     "metadata": {},
     "output_type": "display_data"
    }
   ],
   "source": [
    "user = spark.read.json('s3://project02-data/yelp_academic_dataset_user.json')"
   ]
  },
  {
   "cell_type": "code",
   "execution_count": 32,
   "id": "59e36c20",
   "metadata": {},
   "outputs": [
    {
     "data": {
      "application/vnd.jupyter.widget-view+json": {
       "model_id": "73bd726650c74639a690b690691e1987",
       "version_major": 2,
       "version_minor": 0
      },
      "text/plain": [
       "VBox()"
      ]
     },
     "metadata": {},
     "output_type": "display_data"
    },
    {
     "data": {
      "application/vnd.jupyter.widget-view+json": {
       "model_id": "",
       "version_major": 2,
       "version_minor": 0
      },
      "text/plain": [
       "FloatProgress(value=0.0, bar_style='info', description='Progress:', layout=Layout(height='25px', width='50%'),…"
      ]
     },
     "metadata": {},
     "output_type": "display_data"
    },
    {
     "name": "stdout",
     "output_type": "stream",
     "text": [
      "root\n",
      " |-- average_stars: double (nullable = true)\n",
      " |-- compliment_cool: long (nullable = true)\n",
      " |-- compliment_cute: long (nullable = true)\n",
      " |-- compliment_funny: long (nullable = true)\n",
      " |-- compliment_hot: long (nullable = true)\n",
      " |-- compliment_list: long (nullable = true)\n",
      " |-- compliment_more: long (nullable = true)\n",
      " |-- compliment_note: long (nullable = true)\n",
      " |-- compliment_photos: long (nullable = true)\n",
      " |-- compliment_plain: long (nullable = true)\n",
      " |-- compliment_profile: long (nullable = true)\n",
      " |-- compliment_writer: long (nullable = true)\n",
      " |-- cool: long (nullable = true)\n",
      " |-- elite: string (nullable = true)\n",
      " |-- fans: long (nullable = true)\n",
      " |-- friends: string (nullable = true)\n",
      " |-- funny: long (nullable = true)\n",
      " |-- name: string (nullable = true)\n",
      " |-- review_count: long (nullable = true)\n",
      " |-- useful: long (nullable = true)\n",
      " |-- user_id: string (nullable = true)\n",
      " |-- yelping_since: string (nullable = true)"
     ]
    }
   ],
   "source": [
    "user.printSchema()"
   ]
  },
  {
   "cell_type": "code",
   "execution_count": 33,
   "id": "b9e76306",
   "metadata": {},
   "outputs": [
    {
     "data": {
      "application/vnd.jupyter.widget-view+json": {
       "model_id": "b9aa81c536154fd4b9d0f100092290c2",
       "version_major": 2,
       "version_minor": 0
      },
      "text/plain": [
       "VBox()"
      ]
     },
     "metadata": {},
     "output_type": "display_data"
    },
    {
     "data": {
      "application/vnd.jupyter.widget-view+json": {
       "model_id": "",
       "version_major": 2,
       "version_minor": 0
      },
      "text/plain": [
       "FloatProgress(value=0.0, bar_style='info', description='Progress:', layout=Layout(height='25px', width='50%'),…"
      ]
     },
     "metadata": {},
     "output_type": "display_data"
    },
    {
     "name": "stdout",
     "output_type": "stream",
     "text": [
      "+--------------------+-------------+--------------------+------------+------+\n",
      "|             user_id|average_stars|               elite|review_count|useful|\n",
      "+--------------------+-------------+--------------------+------------+------+\n",
      "|qVc8ODYU5SZjKXVBg...|         3.91|                2007|         585|  7217|\n",
      "|j14WgRoU_-2ZE1aw1...|         3.74|2009,2010,2011,20...|        4333| 43091|\n",
      "|2WnXYQFK0hXEoTxPt...|         3.32|2009,2010,2011,20...|         665|  2086|\n",
      "|SZDeASXq7o05mMNLs...|         4.27|      2009,2010,2011|         224|   512|\n",
      "|hA5lMy-EnncsH4JoR...|         3.54|                    |          79|    29|\n",
      "|q_QQ5kBBwlCcbL1s4...|         3.85|2006,2007,2008,20...|        1221| 14953|\n",
      "|cxuxXkcihfCbqt5By...|         2.75|                    |          12|     6|\n",
      "|E9kcWJdJUHuTKfQur...|         3.73|                    |         358|   399|\n",
      "|lO1iq-f75hnPNZkTy...|         4.04|                    |          40|   109|\n",
      "|AUi8MPWJ0mLkMfwbu...|          3.4|                    |         109|   154|\n",
      "|iYzhPPqnrjJkg1JHZ...|          4.0|                    |           4|     1|\n",
      "|xoZvMJPDW6Q9pDAXI...|         3.89| 2009,2010,2011,2012|         535|  1130|\n",
      "|vVukUtqoLF5BvH_Vt...|         4.51|                    |          37|    63|\n",
      "|_crIokUeTCHVK_JVO...|         3.08|                    |          11|    30|\n",
      "|1McG5Rn_UDkmlkZOr...|         4.29|                    |           7|    18|\n",
      "|SgiBkhXeqIKl1PlFp...|         3.75|2007,2008,2009,20...|         682|  1819|\n",
      "|fJZO_skqpnhk1kvom...|         4.15|                    |          25|    29|\n",
      "|x7YtLnBW2dUnrrpwa...|         3.84|                    |          37|    56|\n",
      "|QF1Kuhs8iwLWANNZx...|         4.11|2010,2011,2012,20...|         607|  4573|\n",
      "|VcLRGCG_VbAo8MxOm...|          3.6|                    |         133|   201|\n",
      "+--------------------+-------------+--------------------+------------+------+\n",
      "only showing top 20 rows"
     ]
    }
   ],
   "source": [
    "# to filter elite users from the list of all users\n",
    "user1 = user.select(\"user_id\",\"average_stars\", \"elite\", \"review_count\", \"useful\")\n",
    "user1.show()"
   ]
  },
  {
   "cell_type": "code",
   "execution_count": 34,
   "id": "df9c162e",
   "metadata": {},
   "outputs": [
    {
     "data": {
      "application/vnd.jupyter.widget-view+json": {
       "model_id": "40f0792082a54ab687029533deaf3e94",
       "version_major": 2,
       "version_minor": 0
      },
      "text/plain": [
       "VBox()"
      ]
     },
     "metadata": {},
     "output_type": "display_data"
    },
    {
     "data": {
      "application/vnd.jupyter.widget-view+json": {
       "model_id": "",
       "version_major": 2,
       "version_minor": 0
      },
      "text/plain": [
       "FloatProgress(value=0.0, bar_style='info', description='Progress:', layout=Layout(height='25px', width='50%'),…"
      ]
     },
     "metadata": {},
     "output_type": "display_data"
    },
    {
     "name": "stdout",
     "output_type": "stream",
     "text": [
      "Number of rows in the user1 table: 1,987,897\n",
      "Number of columns in the user1 table: 5"
     ]
    }
   ],
   "source": [
    "print(f\"Number of rows in the user1 table: {user1.count():,}\")\n",
    "print(f\"Number of columns in the user1 table: {len(user1.dtypes)}\")"
   ]
  },
  {
   "cell_type": "code",
   "execution_count": 35,
   "id": "1ada4b63",
   "metadata": {},
   "outputs": [
    {
     "data": {
      "application/vnd.jupyter.widget-view+json": {
       "model_id": "4dee222145a84d748b10e3f4681b7e11",
       "version_major": 2,
       "version_minor": 0
      },
      "text/plain": [
       "VBox()"
      ]
     },
     "metadata": {},
     "output_type": "display_data"
    },
    {
     "data": {
      "application/vnd.jupyter.widget-view+json": {
       "model_id": "",
       "version_major": 2,
       "version_minor": 0
      },
      "text/plain": [
       "FloatProgress(value=0.0, bar_style='info', description='Progress:', layout=Layout(height='25px', width='50%'),…"
      ]
     },
     "metadata": {},
     "output_type": "display_data"
    },
    {
     "name": "stdout",
     "output_type": "stream",
     "text": [
      "+--------------------+-------------+-----+------------+------+\n",
      "|             user_id|average_stars|elite|review_count|useful|\n",
      "+--------------------+-------------+-----+------------+------+\n",
      "|Xwnf20FKuikiHcSpc...|         3.32|     |        6766|  8348|\n",
      "|ILk4dRvuBf6Axfq3q...|         3.59|     |        3381| 10950|\n",
      "|sjV4NqZx5d0NqY1y7...|         4.99|     |        3332|   718|\n",
      "|3xBFFH866WoySDG7u...|         3.96|     |        3204| 35967|\n",
      "|gAvuqk1q2uAo2BJzZ...|         4.64|     |        3193|  9818|\n",
      "|s3kRi7b8t2sdtYcsM...|         3.39|     |        2908|  1792|\n",
      "|UE-rXhA8njNnADFkD...|         3.55|     |        2651|  1837|\n",
      "|ES12kMOR5fdoEnSXv...|         3.38|     |        2500|  1611|\n",
      "|BOU25_BWQnLdFJBKU...|         2.58|     |        2372|  3660|\n",
      "|Zl1fJNTzNULZiqBRS...|          3.3|     |        2349| 10249|\n",
      "|ELcQDlf69kb-ihJfx...|         3.08|     |        2337|  5208|\n",
      "|kZJWAY828P8QZTqVY...|         3.69|     |        2302| 17030|\n",
      "|-shHTy1CEmSMPVSeh...|         3.35|     |        2112|  1876|\n",
      "|Rhvt5HoMG7mayNd43...|         4.11|     |        2109| 22573|\n",
      "|RCZ5M9o2-fxgFuurp...|         3.91|     |        2103|  2728|\n",
      "|_BHTC7nyCBoZcfiiD...|         3.96|     |        2098|  9839|\n",
      "|yz0s55qwi_WqVjmby...|         3.31|     |        2014|  2948|\n",
      "|VYOQLKuR0Ugy9lU-Q...|         3.73|     |        2002|  1709|\n",
      "|Tqm7Wu7IBJ1td3Ab5...|         4.27|     |        1996| 44130|\n",
      "|AyVI_VJ3My6ibiIkc...|         3.53|     |        1993|  3518|\n",
      "+--------------------+-------------+-----+------------+------+\n",
      "only showing top 20 rows"
     ]
    }
   ],
   "source": [
    "# searching for blanks\n",
    "user2 = user1.filter(user1.elite == \"\").sort(user1.review_count.desc())\n",
    "user2.show()\n"
   ]
  },
  {
   "cell_type": "code",
   "execution_count": 36,
   "id": "6a3454f4",
   "metadata": {},
   "outputs": [
    {
     "data": {
      "application/vnd.jupyter.widget-view+json": {
       "model_id": "1d25fe7c6f62469490af2452820d2551",
       "version_major": 2,
       "version_minor": 0
      },
      "text/plain": [
       "VBox()"
      ]
     },
     "metadata": {},
     "output_type": "display_data"
    },
    {
     "data": {
      "application/vnd.jupyter.widget-view+json": {
       "model_id": "",
       "version_major": 2,
       "version_minor": 0
      },
      "text/plain": [
       "FloatProgress(value=0.0, bar_style='info', description='Progress:', layout=Layout(height='25px', width='50%'),…"
      ]
     },
     "metadata": {},
     "output_type": "display_data"
    },
    {
     "name": "stdout",
     "output_type": "stream",
     "text": [
      "+--------------------+-------------+--------------------+------------+------+\n",
      "|             user_id|average_stars|               elite|review_count|useful|\n",
      "+--------------------+-------------+--------------------+------------+------+\n",
      "|Hi10sGSZNxQH3NLyW...|         3.77|2014,2015,2016,20...|       17473|206296|\n",
      "|8k3aO-mPeyhbR5HUu...|         3.35|2008,2009,2010,20...|       16978|152979|\n",
      "|hWDybu_KvYLSdEFzG...|         3.67|2010,2011,2012,20...|       16567|173089|\n",
      "|RtGqdDBvvBCjcu5dU...|         3.87|2012,2013,2014,20...|       12868| 11109|\n",
      "|P5bUL3Engv-2z6kKo...|         3.81|2006,2007,2008,20...|        9941| 27549|\n",
      "|nmdkHL2JKFx55T3nq...|         3.75|2012,2013,2014,20...|        8363| 57242|\n",
      "|bQCHF5rn5lMI9c5kE...|         3.87|2012,2013,2014,20...|        8354| 42959|\n",
      "|8RcEwGrFIgkt9WQ35...|         3.49|           2010,2011|        7738|  8110|\n",
      "|CxDOIDnH8gp9KXzpB...|         3.34|2009,2010,2011,20...|        6679| 23254|\n",
      "|IucvvxdQXXhjQ4z6O...|         3.53|2009,2010,2011,20...|        6459|  8233|\n",
      "|HFECrzYDpgbS5EmTB...|         3.94|2008,2009,2010,20...|        5887| 41470|\n",
      "|m07sy7eLtOjVdZ8oN...|         3.71|2006,2007,2008,20...|        5800| 73528|\n",
      "|kS1MQHYwIfD0462PE...|         3.84|2008,2009,2010,20...|        5511| 13351|\n",
      "|IlGYj_XAMG3v75rfm...|          4.2|2018,2019,20,20,2021|        5434|  3267|\n",
      "|Eypq5gLLjCapBVVnM...|         3.99|2008,2009,2010,20...|        5163|  5620|\n",
      "|U4INQZOPSUaj8hMjL...|         3.94|2008,2010,2011,20...|        5061| 31803|\n",
      "|bLbSNkLggFnqwNNzz...|         3.43|2012,2013,2014,20...|        5014| 58258|\n",
      "|wZPizeBxMAyOSl0M0...|         3.65|2009,2010,2011,20...|        5002| 21637|\n",
      "|GHoG4X4FY8D8L563z...|         3.78|2013,2014,2015,20...|        4994| 35077|\n",
      "|XYSDrIef7g4Gmp3lN...|         3.97|2007,2008,2009,20...|        4967| 15821|\n",
      "+--------------------+-------------+--------------------+------------+------+\n",
      "only showing top 20 rows"
     ]
    }
   ],
   "source": [
    "elite = user1.filter(user1.elite != \"\").sort(user1.review_count.desc())\n",
    "elite.show()"
   ]
  },
  {
   "cell_type": "code",
   "execution_count": 37,
   "id": "fcafa363",
   "metadata": {},
   "outputs": [
    {
     "data": {
      "application/vnd.jupyter.widget-view+json": {
       "model_id": "ccf7477cb12f4af2aaaf76b63069cb04",
       "version_major": 2,
       "version_minor": 0
      },
      "text/plain": [
       "VBox()"
      ]
     },
     "metadata": {},
     "output_type": "display_data"
    },
    {
     "data": {
      "application/vnd.jupyter.widget-view+json": {
       "model_id": "",
       "version_major": 2,
       "version_minor": 0
      },
      "text/plain": [
       "FloatProgress(value=0.0, bar_style='info', description='Progress:', layout=Layout(height='25px', width='50%'),…"
      ]
     },
     "metadata": {},
     "output_type": "display_data"
    },
    {
     "name": "stdout",
     "output_type": "stream",
     "text": [
      "1896699"
     ]
    }
   ],
   "source": [
    "user2.count()\n"
   ]
  },
  {
   "cell_type": "code",
   "execution_count": 38,
   "id": "1b216d47",
   "metadata": {},
   "outputs": [
    {
     "data": {
      "application/vnd.jupyter.widget-view+json": {
       "model_id": "1d57036cd62743a09cd96f5f83b01f92",
       "version_major": 2,
       "version_minor": 0
      },
      "text/plain": [
       "VBox()"
      ]
     },
     "metadata": {},
     "output_type": "display_data"
    },
    {
     "data": {
      "application/vnd.jupyter.widget-view+json": {
       "model_id": "",
       "version_major": 2,
       "version_minor": 0
      },
      "text/plain": [
       "FloatProgress(value=0.0, bar_style='info', description='Progress:', layout=Layout(height='25px', width='50%'),…"
      ]
     },
     "metadata": {},
     "output_type": "display_data"
    },
    {
     "name": "stdout",
     "output_type": "stream",
     "text": [
      "91198"
     ]
    }
   ],
   "source": [
    "elite.count()"
   ]
  },
  {
   "cell_type": "code",
   "execution_count": 39,
   "id": "5ee5ff00",
   "metadata": {},
   "outputs": [
    {
     "data": {
      "application/vnd.jupyter.widget-view+json": {
       "model_id": "4af229af13604c16a82ec0d7b529e404",
       "version_major": 2,
       "version_minor": 0
      },
      "text/plain": [
       "VBox()"
      ]
     },
     "metadata": {},
     "output_type": "display_data"
    },
    {
     "data": {
      "application/vnd.jupyter.widget-view+json": {
       "model_id": "",
       "version_major": 2,
       "version_minor": 0
      },
      "text/plain": [
       "FloatProgress(value=0.0, bar_style='info', description='Progress:', layout=Layout(height='25px', width='50%'),…"
      ]
     },
     "metadata": {},
     "output_type": "display_data"
    }
   ],
   "source": [
    "elite = elite.withColumnRenamed(\"user_id\",\"userid\")"
   ]
  },
  {
   "cell_type": "code",
   "execution_count": 40,
   "id": "c7b6c5a3",
   "metadata": {},
   "outputs": [
    {
     "data": {
      "application/vnd.jupyter.widget-view+json": {
       "model_id": "258f394e67ef444395bf51810c696a0a",
       "version_major": 2,
       "version_minor": 0
      },
      "text/plain": [
       "VBox()"
      ]
     },
     "metadata": {},
     "output_type": "display_data"
    },
    {
     "data": {
      "application/vnd.jupyter.widget-view+json": {
       "model_id": "",
       "version_major": 2,
       "version_minor": 0
      },
      "text/plain": [
       "FloatProgress(value=0.0, bar_style='info', description='Progress:', layout=Layout(height='25px', width='50%'),…"
      ]
     },
     "metadata": {},
     "output_type": "display_data"
    }
   ],
   "source": [
    "#joined on the review.json\n",
    "\n",
    "rev1 = review.select(\"user_id\", \"business_id\", \"stars\")\n",
    "merged = elite.join(rev1, elite.userid == rev1.user_id)\n"
   ]
  },
  {
   "cell_type": "code",
   "execution_count": 41,
   "id": "7fd1ee26",
   "metadata": {
    "scrolled": true
   },
   "outputs": [
    {
     "data": {
      "application/vnd.jupyter.widget-view+json": {
       "model_id": "899d66ca369e4a11988890194a5ccf0a",
       "version_major": 2,
       "version_minor": 0
      },
      "text/plain": [
       "VBox()"
      ]
     },
     "metadata": {},
     "output_type": "display_data"
    },
    {
     "data": {
      "application/vnd.jupyter.widget-view+json": {
       "model_id": "",
       "version_major": 2,
       "version_minor": 0
      },
      "text/plain": [
       "FloatProgress(value=0.0, bar_style='info', description='Progress:', layout=Layout(height='25px', width='50%'),…"
      ]
     },
     "metadata": {},
     "output_type": "display_data"
    },
    {
     "name": "stdout",
     "output_type": "stream",
     "text": [
      "root\n",
      " |-- userid: string (nullable = true)\n",
      " |-- average_stars: double (nullable = true)\n",
      " |-- elite: string (nullable = true)\n",
      " |-- review_count: long (nullable = true)\n",
      " |-- useful: long (nullable = true)\n",
      " |-- user_id: string (nullable = true)\n",
      " |-- business_id: string (nullable = true)\n",
      " |-- stars: double (nullable = true)\n",
      "\n",
      "1725658"
     ]
    }
   ],
   "source": [
    "merged.printSchema()\n",
    "merged.count()"
   ]
  },
  {
   "cell_type": "code",
   "execution_count": 42,
   "id": "9b5ac246",
   "metadata": {},
   "outputs": [
    {
     "data": {
      "application/vnd.jupyter.widget-view+json": {
       "model_id": "de36487a1cd74979a10656d6cd5b5923",
       "version_major": 2,
       "version_minor": 0
      },
      "text/plain": [
       "VBox()"
      ]
     },
     "metadata": {},
     "output_type": "display_data"
    },
    {
     "data": {
      "application/vnd.jupyter.widget-view+json": {
       "model_id": "",
       "version_major": 2,
       "version_minor": 0
      },
      "text/plain": [
       "FloatProgress(value=0.0, bar_style='info', description='Progress:', layout=Layout(height='25px', width='50%'),…"
      ]
     },
     "metadata": {},
     "output_type": "display_data"
    },
    {
     "name": "stdout",
     "output_type": "stream",
     "text": [
      "                         userid  average_stars  ...             business_id  stars\n",
      "0        IeSz60ozr1yAVIH8CX9w9w           4.19  ...  TV81bpCQ6p6o4Hau5hk-zw    4.0\n",
      "1        xW2A0MciHB0pLB4RHTi0nw           3.86  ...  W4ZEKkva9HpAdZG88juwyQ    5.0\n",
      "2        SSafXe2aUO0cXgQhEdtzrA           4.05  ...  E-4t5Hoon6aVFTWDPz26fQ    5.0\n",
      "3        yiYUEExKfZEv_T8CFTBGRA           3.72  ...  _pbx96FZ3eHJw-V_R4h-Vg    3.0\n",
      "4        A3EiqW7_k00gvaiQi6qWTQ           4.37  ...  8uF-bhJFgT4Tn6DTb27viA    5.0\n",
      "...                         ...            ...  ...                     ...    ...\n",
      "1725653  uTV9DQUd8-8y9LvbXowzzQ           4.15  ...  K59I711q4mFXw7ZBxdwBTg    1.0\n",
      "1725654  im1piwjKBavmW1-tbqhqEw           3.69  ...  -6JdVK-DHB4_43PEksbg1A    4.0\n",
      "1725655  im1piwjKBavmW1-tbqhqEw           3.69  ...  4hwuN5Z504_EbRS1XjoXsA    4.0\n",
      "1725656  Vqgtngey014F0bqj71q0aw           3.91  ...  R1WdznjbaFJ25eaAjvjExA    4.0\n",
      "1725657  im1piwjKBavmW1-tbqhqEw           3.69  ...  z-U6eeQ4QszzXxS1fNuajQ    4.0\n",
      "\n",
      "[1725658 rows x 8 columns]"
     ]
    }
   ],
   "source": [
    "pl = merged.toPandas()\n",
    "pl"
   ]
  },
  {
   "cell_type": "code",
   "execution_count": 43,
   "id": "931a9a1c",
   "metadata": {},
   "outputs": [
    {
     "data": {
      "application/vnd.jupyter.widget-view+json": {
       "model_id": "48882140caf2441cae2f7dc1c170b751",
       "version_major": 2,
       "version_minor": 0
      },
      "text/plain": [
       "VBox()"
      ]
     },
     "metadata": {},
     "output_type": "display_data"
    },
    {
     "data": {
      "application/vnd.jupyter.widget-view+json": {
       "model_id": "",
       "version_major": 2,
       "version_minor": 0
      },
      "text/plain": [
       "FloatProgress(value=0.0, bar_style='info', description='Progress:', layout=Layout(height='25px', width='50%'),…"
      ]
     },
     "metadata": {},
     "output_type": "display_data"
    },
    {
     "data": {
      "image/png": "[encoded data removed]",
      "text/plain": [
       "<IPython.core.display.Image object>"
      ]
     },
     "metadata": {},
     "output_type": "display_data"
    }
   ],
   "source": [
    "fig, ax=plt.subplots(figsize=(10,6))\n",
    "sb.jointplot(pl[\"stars\"], pl[\"average_stars\"]).set_axis_labels(xlabel=\"Written Review Rating\", ylabel=\"Elite User Avg Rating\", size=10)     \n",
    "%matplot plt"
   ]
  },
  {
   "cell_type": "code",
   "execution_count": 44,
   "id": "dcd0426e",
   "metadata": {},
   "outputs": [
    {
     "data": {
      "application/vnd.jupyter.widget-view+json": {
       "model_id": "147d4d56c24647f0af1ccb5f9f99c812",
       "version_major": 2,
       "version_minor": 0
      },
      "text/plain": [
       "VBox()"
      ]
     },
     "metadata": {},
     "output_type": "display_data"
    },
    {
     "data": {
      "application/vnd.jupyter.widget-view+json": {
       "model_id": "",
       "version_major": 2,
       "version_minor": 0
      },
      "text/plain": [
       "FloatProgress(value=0.0, bar_style='info', description='Progress:', layout=Layout(height='25px', width='50%'),…"
      ]
     },
     "metadata": {},
     "output_type": "display_data"
    },
    {
     "data": {
      "image/png": "[encoded data removed]",
      "text/plain": [
       "<IPython.core.display.Image object>"
      ]
     },
     "metadata": {},
     "output_type": "display_data"
    }
   ],
   "source": [
    "fig, ax=plt.subplots(figsize=(10,6))\n",
    "sb.jointplot(pl[\"useful\"], pl[\"average_stars\"]).set_axis_labels(xlabel=\"# of Useful Written Review\", ylabel=\"Avg Rating\", size=10)\n",
    "%matplot plt"
   ]
  },
  {
   "cell_type": "code",
   "execution_count": 45,
   "id": "ab8e3b2b",
   "metadata": {},
   "outputs": [
    {
     "data": {
      "application/vnd.jupyter.widget-view+json": {
       "model_id": "4f64104dbb9a472fb6f5fde3e28669bd",
       "version_major": 2,
       "version_minor": 0
      },
      "text/plain": [
       "VBox()"
      ]
     },
     "metadata": {},
     "output_type": "display_data"
    },
    {
     "data": {
      "application/vnd.jupyter.widget-view+json": {
       "model_id": "",
       "version_major": 2,
       "version_minor": 0
      },
      "text/plain": [
       "FloatProgress(value=0.0, bar_style='info', description='Progress:', layout=Layout(height='25px', width='50%'),…"
      ]
     },
     "metadata": {},
     "output_type": "display_data"
    },
    {
     "name": "stdout",
     "output_type": "stream",
     "text": [
      "+--------------------+-------------+------------+------+--------------------+-----+\n",
      "|              userid|average_stars|review_count|useful|         business_id|stars|\n",
      "+--------------------+-------------+------------+------+--------------------+-----+\n",
      "|IeSz60ozr1yAVIH8C...|         4.19|         466|   616|TV81bpCQ6p6o4Hau5...|  4.0|\n",
      "|xW2A0MciHB0pLB4RH...|         3.86|         600|  1218|W4ZEKkva9HpAdZG88...|  5.0|\n",
      "|SSafXe2aUO0cXgQhE...|         4.05|         228|   304|E-4t5Hoon6aVFTWDP...|  5.0|\n",
      "|yiYUEExKfZEv_T8CF...|         3.72|          96|   134|_pbx96FZ3eHJw-V_R...|  3.0|\n",
      "|A3EiqW7_k00gvaiQi...|         4.37|          45|    27|8uF-bhJFgT4Tn6DTb...|  5.0|\n",
      "|Zsucq1c-sjuGxs5jZ...|         3.73|         253|   817|zaC6coZ5Gp8mLjeg7...|  4.0|\n",
      "|aX3vDE1UmbdrWeOsg...|         4.17|         197|   129|EqEcDeXqIq1YwnzHg...|  5.0|\n",
      "|aHiQYaTXrmQTeG610...|         4.13|         458|   940|3w7NRntdQ9h0KwDsk...|  4.0|\n",
      "|g34Qcj06LmCDhKzks...|         3.99|         293|  1460|yE1raqkLX7OZsjmX3...|  5.0|\n",
      "|yiYUEExKfZEv_T8CF...|         3.72|          96|   134|EP2jFD3aGoSBCWb7i...|  4.0|\n",
      "|OTG7-L3N4geWEB_0q...|         3.58|         200|   125|hS6KNGCQVTYUdLb2e...|  4.0|\n",
      "|xHU37ocClTtu1rS4L...|         4.55|          76|   145|uW8L6awmCyjovD9Oh...|  5.0|\n",
      "|wwoLHw7FX0CaeOmw1...|         4.19|          84|    91|6kAXOzE7fqaBZINQV...|  4.0|\n",
      "|Zsucq1c-sjuGxs5jZ...|         3.73|         253|   817|yLIn3po-fKb0T3UIo...|  5.0|\n",
      "|417svAEVHreK6c3SK...|         4.21|         620|  6292|oQ5CPRt0R3AzFvcjN...|  3.0|\n",
      "|qCNZXu0nA1m9_qQDS...|         3.13|         636|  1430|psI9u_iVuWFcchWhe...|  3.0|\n",
      "|wwoLHw7FX0CaeOmw1...|         4.19|          84|    91|wzE61ThXOdrSegvwS...|  5.0|\n",
      "|Zsucq1c-sjuGxs5jZ...|         3.73|         253|   817|z6SVTb9eFIcWVpKXI...|  4.0|\n",
      "|Zsucq1c-sjuGxs5jZ...|         3.73|         253|   817|hdVqM-QngiiLRaMOv...|  5.0|\n",
      "|Zsucq1c-sjuGxs5jZ...|         3.73|         253|   817|kPG6r0h73sPgXBei0...|  4.0|\n",
      "+--------------------+-------------+------------+------+--------------------+-----+\n",
      "only showing top 20 rows"
     ]
    }
   ],
   "source": [
    "merged = merged.drop(\"elite\", \"user_id\")\n",
    "merged.show()"
   ]
  },
  {
   "cell_type": "code",
   "execution_count": 46,
   "id": "6f2cda23",
   "metadata": {},
   "outputs": [
    {
     "data": {
      "application/vnd.jupyter.widget-view+json": {
       "model_id": "90e614f5e22c48dea2b9a100b3c65710",
       "version_major": 2,
       "version_minor": 0
      },
      "text/plain": [
       "VBox()"
      ]
     },
     "metadata": {},
     "output_type": "display_data"
    },
    {
     "data": {
      "application/vnd.jupyter.widget-view+json": {
       "model_id": "",
       "version_major": 2,
       "version_minor": 0
      },
      "text/plain": [
       "FloatProgress(value=0.0, bar_style='info', description='Progress:', layout=Layout(height='25px', width='50%'),…"
      ]
     },
     "metadata": {},
     "output_type": "display_data"
    },
    {
     "name": "stdout",
     "output_type": "stream",
     "text": [
      "+--------------------+------------------+\n",
      "|             user_id|        avg(stars)|\n",
      "+--------------------+------------------+\n",
      "|IeSz60ozr1yAVIH8C...| 4.289592760180995|\n",
      "|xW2A0MciHB0pLB4RH...|3.4444444444444446|\n",
      "|SSafXe2aUO0cXgQhE...| 3.884297520661157|\n",
      "|yiYUEExKfZEv_T8CF...| 3.742857142857143|\n",
      "|A3EiqW7_k00gvaiQi...|               5.0|\n",
      "+--------------------+------------------+\n",
      "only showing top 5 rows"
     ]
    }
   ],
   "source": [
    "avg_star_rev = merged.groupBy(\"userid\").avg(\"stars\")\n",
    "avg_star_rev = avg_star_rev.withColumnRenamed(\"userid\", \"user_id\")\n",
    "avg_star_rev.show(5)"
   ]
  },
  {
   "cell_type": "code",
   "execution_count": 47,
   "id": "65cde077",
   "metadata": {
    "scrolled": true
   },
   "outputs": [
    {
     "data": {
      "application/vnd.jupyter.widget-view+json": {
       "model_id": "80f3d749d96746b1b0baf9bd9fbf57a1",
       "version_major": 2,
       "version_minor": 0
      },
      "text/plain": [
       "VBox()"
      ]
     },
     "metadata": {},
     "output_type": "display_data"
    },
    {
     "data": {
      "application/vnd.jupyter.widget-view+json": {
       "model_id": "",
       "version_major": 2,
       "version_minor": 0
      },
      "text/plain": [
       "FloatProgress(value=0.0, bar_style='info', description='Progress:', layout=Layout(height='25px', width='50%'),…"
      ]
     },
     "metadata": {},
     "output_type": "display_data"
    },
    {
     "name": "stdout",
     "output_type": "stream",
     "text": [
      "+--------------------+-------------+------------+------+--------------------+-----+--------------------+------------------+\n",
      "|              userid|average_stars|review_count|useful|         business_id|stars|             user_id|        avg(stars)|\n",
      "+--------------------+-------------+------------+------+--------------------+-----+--------------------+------------------+\n",
      "|IeSz60ozr1yAVIH8C...|         4.19|         466|   616|TV81bpCQ6p6o4Hau5...|  4.0|IeSz60ozr1yAVIH8C...| 4.289592760180995|\n",
      "|xW2A0MciHB0pLB4RH...|         3.86|         600|  1218|W4ZEKkva9HpAdZG88...|  5.0|xW2A0MciHB0pLB4RH...|3.4444444444444446|\n",
      "|SSafXe2aUO0cXgQhE...|         4.05|         228|   304|E-4t5Hoon6aVFTWDP...|  5.0|SSafXe2aUO0cXgQhE...| 3.884297520661157|\n",
      "|yiYUEExKfZEv_T8CF...|         3.72|          96|   134|_pbx96FZ3eHJw-V_R...|  3.0|yiYUEExKfZEv_T8CF...| 3.742857142857143|\n",
      "|A3EiqW7_k00gvaiQi...|         4.37|          45|    27|8uF-bhJFgT4Tn6DTb...|  5.0|A3EiqW7_k00gvaiQi...|               5.0|\n",
      "|Zsucq1c-sjuGxs5jZ...|         3.73|         253|   817|zaC6coZ5Gp8mLjeg7...|  4.0|Zsucq1c-sjuGxs5jZ...| 3.712328767123288|\n",
      "|aX3vDE1UmbdrWeOsg...|         4.17|         197|   129|EqEcDeXqIq1YwnzHg...|  5.0|aX3vDE1UmbdrWeOsg...| 4.110429447852761|\n",
      "|aHiQYaTXrmQTeG610...|         4.13|         458|   940|3w7NRntdQ9h0KwDsk...|  4.0|aHiQYaTXrmQTeG610...| 4.109181141439206|\n",
      "|g34Qcj06LmCDhKzks...|         3.99|         293|  1460|yE1raqkLX7OZsjmX3...|  5.0|g34Qcj06LmCDhKzks...|               4.0|\n",
      "|yiYUEExKfZEv_T8CF...|         3.72|          96|   134|EP2jFD3aGoSBCWb7i...|  4.0|yiYUEExKfZEv_T8CF...| 3.742857142857143|\n",
      "|OTG7-L3N4geWEB_0q...|         3.58|         200|   125|hS6KNGCQVTYUdLb2e...|  4.0|OTG7-L3N4geWEB_0q...|3.7777777777777777|\n",
      "|xHU37ocClTtu1rS4L...|         4.55|          76|   145|uW8L6awmCyjovD9Oh...|  5.0|xHU37ocClTtu1rS4L...| 4.391304347826087|\n",
      "|wwoLHw7FX0CaeOmw1...|         4.19|          84|    91|6kAXOzE7fqaBZINQV...|  4.0|wwoLHw7FX0CaeOmw1...| 4.113636363636363|\n",
      "|Zsucq1c-sjuGxs5jZ...|         3.73|         253|   817|yLIn3po-fKb0T3UIo...|  5.0|Zsucq1c-sjuGxs5jZ...| 3.712328767123288|\n",
      "|417svAEVHreK6c3SK...|         4.21|         620|  6292|oQ5CPRt0R3AzFvcjN...|  3.0|417svAEVHreK6c3SK...| 4.071823204419889|\n",
      "|qCNZXu0nA1m9_qQDS...|         3.13|         636|  1430|psI9u_iVuWFcchWhe...|  3.0|qCNZXu0nA1m9_qQDS...|            3.9375|\n",
      "|wwoLHw7FX0CaeOmw1...|         4.19|          84|    91|wzE61ThXOdrSegvwS...|  5.0|wwoLHw7FX0CaeOmw1...| 4.113636363636363|\n",
      "|Zsucq1c-sjuGxs5jZ...|         3.73|         253|   817|z6SVTb9eFIcWVpKXI...|  4.0|Zsucq1c-sjuGxs5jZ...| 3.712328767123288|\n",
      "|Zsucq1c-sjuGxs5jZ...|         3.73|         253|   817|hdVqM-QngiiLRaMOv...|  5.0|Zsucq1c-sjuGxs5jZ...| 3.712328767123288|\n",
      "|Zsucq1c-sjuGxs5jZ...|         3.73|         253|   817|kPG6r0h73sPgXBei0...|  4.0|Zsucq1c-sjuGxs5jZ...| 3.712328767123288|\n",
      "+--------------------+-------------+------------+------+--------------------+-----+--------------------+------------------+\n",
      "only showing top 20 rows"
     ]
    }
   ],
   "source": [
    "merged1 = merged.select(\"userid\", \"business_id\", \"stars\", \"average_stars\")\n",
    "merged2 = merged.join(avg_star_rev, merged.userid == avg_star_rev.user_id)\n",
    "merged2.show()"
   ]
  },
  {
   "cell_type": "code",
   "execution_count": 48,
   "id": "79113a02",
   "metadata": {},
   "outputs": [
    {
     "data": {
      "application/vnd.jupyter.widget-view+json": {
       "model_id": "fb7b5a82a6f546c88145af7f43972721",
       "version_major": 2,
       "version_minor": 0
      },
      "text/plain": [
       "VBox()"
      ]
     },
     "metadata": {},
     "output_type": "display_data"
    },
    {
     "data": {
      "application/vnd.jupyter.widget-view+json": {
       "model_id": "",
       "version_major": 2,
       "version_minor": 0
      },
      "text/plain": [
       "FloatProgress(value=0.0, bar_style='info', description='Progress:', layout=Layout(height='25px', width='50%'),…"
      ]
     },
     "metadata": {},
     "output_type": "display_data"
    },
    {
     "name": "stdout",
     "output_type": "stream",
     "text": [
      "+--------------------+--------------------+------------------+\n",
      "|              userid|         business_id|        avg(stars)|\n",
      "+--------------------+--------------------+------------------+\n",
      "|IeSz60ozr1yAVIH8C...|TV81bpCQ6p6o4Hau5...| 4.289592760180995|\n",
      "|xW2A0MciHB0pLB4RH...|W4ZEKkva9HpAdZG88...|3.4444444444444446|\n",
      "|SSafXe2aUO0cXgQhE...|E-4t5Hoon6aVFTWDP...| 3.884297520661157|\n",
      "|yiYUEExKfZEv_T8CF...|_pbx96FZ3eHJw-V_R...| 3.742857142857143|\n",
      "|A3EiqW7_k00gvaiQi...|8uF-bhJFgT4Tn6DTb...|               5.0|\n",
      "+--------------------+--------------------+------------------+\n",
      "only showing top 5 rows"
     ]
    }
   ],
   "source": [
    "#elite users that have written reviews\n",
    "mer = merged2.select(\"userid\", \"business_id\", \"avg(stars)\")\n",
    "mer.show(5)"
   ]
  },
  {
   "cell_type": "code",
   "execution_count": 49,
   "id": "166c41f1",
   "metadata": {},
   "outputs": [
    {
     "data": {
      "application/vnd.jupyter.widget-view+json": {
       "model_id": "fd30606865b6417fb53d318393c64092",
       "version_major": 2,
       "version_minor": 0
      },
      "text/plain": [
       "VBox()"
      ]
     },
     "metadata": {},
     "output_type": "display_data"
    },
    {
     "data": {
      "application/vnd.jupyter.widget-view+json": {
       "model_id": "",
       "version_major": 2,
       "version_minor": 0
      },
      "text/plain": [
       "FloatProgress(value=0.0, bar_style='info', description='Progress:', layout=Layout(height='25px', width='50%'),…"
      ]
     },
     "metadata": {},
     "output_type": "display_data"
    }
   ],
   "source": [
    "bus1 = business.select(\"business_id\", \"stars\")\n",
    "mer1 = mer.join(bus1, mer.business_id == bus1.business_id)"
   ]
  },
  {
   "cell_type": "code",
   "execution_count": 50,
   "id": "67a7ef1e",
   "metadata": {},
   "outputs": [
    {
     "data": {
      "application/vnd.jupyter.widget-view+json": {
       "model_id": "230a26b988844bf1ba604563d3f09b4b",
       "version_major": 2,
       "version_minor": 0
      },
      "text/plain": [
       "VBox()"
      ]
     },
     "metadata": {},
     "output_type": "display_data"
    },
    {
     "data": {
      "application/vnd.jupyter.widget-view+json": {
       "model_id": "",
       "version_major": 2,
       "version_minor": 0
      },
      "text/plain": [
       "FloatProgress(value=0.0, bar_style='info', description='Progress:', layout=Layout(height='25px', width='50%'),…"
      ]
     },
     "metadata": {},
     "output_type": "display_data"
    }
   ],
   "source": [
    "#mer1.drop(\"business_id\", \"userid\")"
   ]
  },
  {
   "cell_type": "code",
   "execution_count": 51,
   "id": "f4b52f44",
   "metadata": {},
   "outputs": [
    {
     "data": {
      "application/vnd.jupyter.widget-view+json": {
       "model_id": "36460ab62a4748eb96c1ceb2171b3449",
       "version_major": 2,
       "version_minor": 0
      },
      "text/plain": [
       "VBox()"
      ]
     },
     "metadata": {},
     "output_type": "display_data"
    },
    {
     "data": {
      "application/vnd.jupyter.widget-view+json": {
       "model_id": "",
       "version_major": 2,
       "version_minor": 0
      },
      "text/plain": [
       "FloatProgress(value=0.0, bar_style='info', description='Progress:', layout=Layout(height='25px', width='50%'),…"
      ]
     },
     "metadata": {},
     "output_type": "display_data"
    },
    {
     "name": "stdout",
     "output_type": "stream",
     "text": [
      "+--------------------+--------------------+------------------+--------------------+-----+\n",
      "|              userid|         business_id|        avg(stars)|         business_id|stars|\n",
      "+--------------------+--------------------+------------------+--------------------+-----+\n",
      "|IeSz60ozr1yAVIH8C...|TV81bpCQ6p6o4Hau5...| 4.289592760180995|TV81bpCQ6p6o4Hau5...|  4.5|\n",
      "|xW2A0MciHB0pLB4RH...|W4ZEKkva9HpAdZG88...|3.4444444444444446|W4ZEKkva9HpAdZG88...|  4.0|\n",
      "|SSafXe2aUO0cXgQhE...|E-4t5Hoon6aVFTWDP...| 3.884297520661157|E-4t5Hoon6aVFTWDP...|  4.0|\n",
      "|yiYUEExKfZEv_T8CF...|_pbx96FZ3eHJw-V_R...| 3.742857142857143|_pbx96FZ3eHJw-V_R...|  2.5|\n",
      "|A3EiqW7_k00gvaiQi...|8uF-bhJFgT4Tn6DTb...|               5.0|8uF-bhJFgT4Tn6DTb...|  4.5|\n",
      "|Zsucq1c-sjuGxs5jZ...|zaC6coZ5Gp8mLjeg7...| 3.712328767123288|zaC6coZ5Gp8mLjeg7...|  4.5|\n",
      "|aX3vDE1UmbdrWeOsg...|EqEcDeXqIq1YwnzHg...| 4.110429447852761|EqEcDeXqIq1YwnzHg...|  4.5|\n",
      "|aHiQYaTXrmQTeG610...|3w7NRntdQ9h0KwDsk...| 4.109181141439206|3w7NRntdQ9h0KwDsk...|  2.0|\n",
      "|g34Qcj06LmCDhKzks...|yE1raqkLX7OZsjmX3...|               4.0|yE1raqkLX7OZsjmX3...|  4.0|\n",
      "|yiYUEExKfZEv_T8CF...|EP2jFD3aGoSBCWb7i...| 3.742857142857143|EP2jFD3aGoSBCWb7i...|  4.0|\n",
      "|OTG7-L3N4geWEB_0q...|hS6KNGCQVTYUdLb2e...|3.7777777777777777|hS6KNGCQVTYUdLb2e...|  3.5|\n",
      "|xHU37ocClTtu1rS4L...|uW8L6awmCyjovD9Oh...| 4.391304347826087|uW8L6awmCyjovD9Oh...|  4.5|\n",
      "|wwoLHw7FX0CaeOmw1...|6kAXOzE7fqaBZINQV...| 4.113636363636363|6kAXOzE7fqaBZINQV...|  3.5|\n",
      "|Zsucq1c-sjuGxs5jZ...|yLIn3po-fKb0T3UIo...| 3.712328767123288|yLIn3po-fKb0T3UIo...|  4.0|\n",
      "|417svAEVHreK6c3SK...|oQ5CPRt0R3AzFvcjN...| 4.071823204419889|oQ5CPRt0R3AzFvcjN...|  4.0|\n",
      "|qCNZXu0nA1m9_qQDS...|psI9u_iVuWFcchWhe...|            3.9375|psI9u_iVuWFcchWhe...|  2.5|\n",
      "|wwoLHw7FX0CaeOmw1...|wzE61ThXOdrSegvwS...| 4.113636363636363|wzE61ThXOdrSegvwS...|  4.0|\n",
      "|Zsucq1c-sjuGxs5jZ...|z6SVTb9eFIcWVpKXI...| 3.712328767123288|z6SVTb9eFIcWVpKXI...|  4.0|\n",
      "|Zsucq1c-sjuGxs5jZ...|hdVqM-QngiiLRaMOv...| 3.712328767123288|hdVqM-QngiiLRaMOv...|  4.0|\n",
      "|Zsucq1c-sjuGxs5jZ...|kPG6r0h73sPgXBei0...| 3.712328767123288|kPG6r0h73sPgXBei0...|  4.5|\n",
      "+--------------------+--------------------+------------------+--------------------+-----+\n",
      "only showing top 20 rows"
     ]
    }
   ],
   "source": [
    "mer1.show()"
   ]
  },
  {
   "cell_type": "code",
   "execution_count": 52,
   "id": "44564d9c",
   "metadata": {},
   "outputs": [
    {
     "data": {
      "application/vnd.jupyter.widget-view+json": {
       "model_id": "3328e1382aaa47d19e54796cb053dec7",
       "version_major": 2,
       "version_minor": 0
      },
      "text/plain": [
       "VBox()"
      ]
     },
     "metadata": {},
     "output_type": "display_data"
    },
    {
     "data": {
      "application/vnd.jupyter.widget-view+json": {
       "model_id": "",
       "version_major": 2,
       "version_minor": 0
      },
      "text/plain": [
       "FloatProgress(value=0.0, bar_style='info', description='Progress:', layout=Layout(height='25px', width='50%'),…"
      ]
     },
     "metadata": {},
     "output_type": "display_data"
    },
    {
     "name": "stdout",
     "output_type": "stream",
     "text": [
      "+--------------------+--------------------+------------------+--------------------+-----+--------------------+\n",
      "|              userid|         business_id|        avg(stars)|         business_id|stars|                skew|\n",
      "+--------------------+--------------------+------------------+--------------------+-----+--------------------+\n",
      "|IeSz60ozr1yAVIH8C...|TV81bpCQ6p6o4Hau5...| 4.289592760180995|TV81bpCQ6p6o4Hau5...|  4.5|-0.04675716440422...|\n",
      "|xW2A0MciHB0pLB4RH...|W4ZEKkva9HpAdZG88...|3.4444444444444446|W4ZEKkva9HpAdZG88...|  4.0|-0.13888888888888884|\n",
      "+--------------------+--------------------+------------------+--------------------+-----+--------------------+\n",
      "only showing top 2 rows"
     ]
    }
   ],
   "source": [
    "mer2 = mer1.withColumn('skew', ( mer1['avg(stars)'] - mer1['stars'] ) / mer1['stars'] )\n",
    "mer2.show(2)"
   ]
  },
  {
   "cell_type": "code",
   "execution_count": 53,
   "id": "dc8e098e",
   "metadata": {},
   "outputs": [
    {
     "data": {
      "application/vnd.jupyter.widget-view+json": {
       "model_id": "b230cc61c5ca4a70a57834f1f1fac4d1",
       "version_major": 2,
       "version_minor": 0
      },
      "text/plain": [
       "VBox()"
      ]
     },
     "metadata": {},
     "output_type": "display_data"
    },
    {
     "data": {
      "application/vnd.jupyter.widget-view+json": {
       "model_id": "",
       "version_major": 2,
       "version_minor": 0
      },
      "text/plain": [
       "FloatProgress(value=0.0, bar_style='info', description='Progress:', layout=Layout(height='25px', width='50%'),…"
      ]
     },
     "metadata": {},
     "output_type": "display_data"
    },
    {
     "name": "stdout",
     "output_type": "stream",
     "text": [
      "             skew\n",
      "0       -0.046757\n",
      "1       -0.138889\n",
      "2       -0.028926\n",
      "3        0.497143\n",
      "4        0.111111\n",
      "...           ...\n",
      "1725653  0.346801\n",
      "1725654 -0.087025\n",
      "1725655 -0.087025\n",
      "1725656 -0.102941\n",
      "1725657  0.217300\n",
      "\n",
      "[1725658 rows x 1 columns]"
     ]
    }
   ],
   "source": [
    "pd = mer2.select(\"skew\")\n",
    "pd = pd.toPandas()\n",
    "pd"
   ]
  },
  {
   "cell_type": "code",
   "execution_count": 54,
   "id": "05f1e520",
   "metadata": {},
   "outputs": [
    {
     "data": {
      "application/vnd.jupyter.widget-view+json": {
       "model_id": "479a3f81fb774197ad219f74be619e48",
       "version_major": 2,
       "version_minor": 0
      },
      "text/plain": [
       "VBox()"
      ]
     },
     "metadata": {},
     "output_type": "display_data"
    },
    {
     "data": {
      "application/vnd.jupyter.widget-view+json": {
       "model_id": "",
       "version_major": 2,
       "version_minor": 0
      },
      "text/plain": [
       "FloatProgress(value=0.0, bar_style='info', description='Progress:', layout=Layout(height='25px', width='50%'),…"
      ]
     },
     "metadata": {},
     "output_type": "display_data"
    },
    {
     "data": {
      "image/png": "[encoded data removed]",
      "text/plain": [
       "<IPython.core.display.Image object>"
      ]
     },
     "metadata": {},
     "output_type": "display_data"
    }
   ],
   "source": [
    "#To check against normal distribution\n",
    "plt.figure(figsize=(10,6))\n",
    "from scipy.stats import norm\n",
    "sb.distplot(pd, axlabel='Skew', fit = norm, kde=True).set(title='Yelp Elite User Review Skew')\n",
    "%matplot plt"
   ]
  },
  {
   "cell_type": "markdown",
   "id": "a28972a0",
   "metadata": {},
   "source": [
    "### FINDINGS:"
   ]
  },
  {
   "cell_type": "markdown",
   "id": "6d6529ed",
   "metadata": {},
   "source": [
    " No, the Elite should not be trusted based on my explanation on finding below. The first scatterplot with linear regression and marginal distributions graph shows no strong linear relationship between the Elite User's Average Rating and Written Review Rating. It shows that Elite Users write reviews with bad and good rating. It means the elite users’ reviews has a normal average rating distribution. The marginal distribution displays a 5- and 4-rating written reviews represent major part of elite users writing reviews. Therefore, my previous assumption that the written reviews ratings in general are in a low rating range is incorrect for elite users data sample. The second scatter plot with linear regression and marginal distributions graph shows no strong linear relationship between the Elite User's Average Rating and their total reviews' usefulness. Similarly, the second scatter plot does not display a linear relationship between Elite User's Average Rating and their reviews' usefulness for all their written reviews. In addition, it shows that Elite users' average rate range is from 1 to 5 have been useful with their written comments to some extent. However, there are more written reviews that have been useful from the Elite users that have an average rating between 3.5 and 4.5. The majority of reviews have been written by Elite users that have a low record of total usefulness as indicates the marginal distribution figure. Therefore, Elite users have more positive written reviews. The Elite users' skew graph is more \"skewed right\" which means that Elite reviewers who wrote an actual review are generally more optimistic as compared to the overall business rating. This contradiction in comparative analysis on written reviews between Elite users and all users requires additional analysis to understand the trend and outliers."
   ]
  },
  {
   "cell_type": "markdown",
   "id": "fb130d96",
   "metadata": {},
   "source": [
    "### IMPLICATIONS:"
   ]
  },
  {
   "cell_type": "markdown",
   "id": "838ed218",
   "metadata": {},
   "source": [
    "Comparative analysis is necessary in order to confirm if Elite users are trustworthy, we need to compare rating distribution, usefulness and its' relationship from other users to Elite users. It will help to rule out Elite users' bias on written reviews."
   ]
  },
  {
   "cell_type": "markdown",
   "id": "900d4923",
   "metadata": {},
   "source": [
    "# Extra Credit (3 points)\n",
    "## What users (elite or non-elite) provide useful reviews and are trustworth?\n",
    "\n",
    "Try and analyze some interesting dimension to this data. \n",
    "**Requirements:**\n",
    "\n",
    "You must use the **Users** dataset and join on either the \"**business** or **reviews** dataset.\n",
    "\n",
    "You must render **one visual**\n"
   ]
  },
  {
   "cell_type": "markdown",
   "id": "b9424fce",
   "metadata": {},
   "source": [
    "Since the elite users have provided mostly 4 and 5-rating written reviews as above analysis, it makes sense to compare relationship of usefulness of written comment, total number of comments per user with a review rating to support the creditability of the elite and non-elite reviewers."
   ]
  },
  {
   "cell_type": "code",
   "execution_count": 55,
   "id": "68e3de05",
   "metadata": {},
   "outputs": [
    {
     "data": {
      "application/vnd.jupyter.widget-view+json": {
       "model_id": "3fdef14465a14454bdc8e5315d8ae2fc",
       "version_major": 2,
       "version_minor": 0
      },
      "text/plain": [
       "VBox()"
      ]
     },
     "metadata": {},
     "output_type": "display_data"
    },
    {
     "data": {
      "application/vnd.jupyter.widget-view+json": {
       "model_id": "",
       "version_major": 2,
       "version_minor": 0
      },
      "text/plain": [
       "FloatProgress(value=0.0, bar_style='info', description='Progress:', layout=Layout(height='25px', width='50%'),…"
      ]
     },
     "metadata": {},
     "output_type": "display_data"
    }
   ],
   "source": [
    "rev_use = review.select(\"user_id\",\"review_id\", \"stars\", \"useful\")\n",
    "rev_use = rev_use.withColumnRenamed(\"useful\",\"review_useful\")\n",
    "rev_use = rev_use.withColumnRenamed(\"star\",\"review_star\")"
   ]
  },
  {
   "cell_type": "code",
   "execution_count": 56,
   "id": "154a0a46",
   "metadata": {},
   "outputs": [
    {
     "data": {
      "application/vnd.jupyter.widget-view+json": {
       "model_id": "219978bb853b4b409c59cf1c852ce29e",
       "version_major": 2,
       "version_minor": 0
      },
      "text/plain": [
       "VBox()"
      ]
     },
     "metadata": {},
     "output_type": "display_data"
    },
    {
     "data": {
      "application/vnd.jupyter.widget-view+json": {
       "model_id": "",
       "version_major": 2,
       "version_minor": 0
      },
      "text/plain": [
       "FloatProgress(value=0.0, bar_style='info', description='Progress:', layout=Layout(height='25px', width='50%'),…"
      ]
     },
     "metadata": {},
     "output_type": "display_data"
    }
   ],
   "source": [
    "users = user2.withColumnRenamed(\"user_id\",\"userid\")"
   ]
  },
  {
   "cell_type": "code",
   "execution_count": 57,
   "id": "a951b634",
   "metadata": {},
   "outputs": [
    {
     "data": {
      "application/vnd.jupyter.widget-view+json": {
       "model_id": "4beba0bd13894020a626c041446b3d0d",
       "version_major": 2,
       "version_minor": 0
      },
      "text/plain": [
       "VBox()"
      ]
     },
     "metadata": {},
     "output_type": "display_data"
    },
    {
     "data": {
      "application/vnd.jupyter.widget-view+json": {
       "model_id": "",
       "version_major": 2,
       "version_minor": 0
      },
      "text/plain": [
       "FloatProgress(value=0.0, bar_style='info', description='Progress:', layout=Layout(height='25px', width='50%'),…"
      ]
     },
     "metadata": {},
     "output_type": "display_data"
    }
   ],
   "source": [
    "#joined on the review for elite users\n",
    "elite_user = elite.join(rev_use, elite.userid == rev_use.user_id)\n"
   ]
  },
  {
   "cell_type": "code",
   "execution_count": 58,
   "id": "dbfac2a7",
   "metadata": {},
   "outputs": [
    {
     "data": {
      "application/vnd.jupyter.widget-view+json": {
       "model_id": "50ec7ae7f4654a60b67e53a91b4a245f",
       "version_major": 2,
       "version_minor": 0
      },
      "text/plain": [
       "VBox()"
      ]
     },
     "metadata": {},
     "output_type": "display_data"
    },
    {
     "data": {
      "application/vnd.jupyter.widget-view+json": {
       "model_id": "",
       "version_major": 2,
       "version_minor": 0
      },
      "text/plain": [
       "FloatProgress(value=0.0, bar_style='info', description='Progress:', layout=Layout(height='25px', width='50%'),…"
      ]
     },
     "metadata": {},
     "output_type": "display_data"
    }
   ],
   "source": [
    "#joined on the review for other users but not elite\n",
    "other_user = users.join(rev_use, users.userid == rev_use.user_id)\n"
   ]
  },
  {
   "cell_type": "code",
   "execution_count": 59,
   "id": "dc4ee0ed",
   "metadata": {},
   "outputs": [
    {
     "data": {
      "application/vnd.jupyter.widget-view+json": {
       "model_id": "85ff6c7fada44d9c8ac29d5e2b3413c8",
       "version_major": 2,
       "version_minor": 0
      },
      "text/plain": [
       "VBox()"
      ]
     },
     "metadata": {},
     "output_type": "display_data"
    },
    {
     "data": {
      "application/vnd.jupyter.widget-view+json": {
       "model_id": "",
       "version_major": 2,
       "version_minor": 0
      },
      "text/plain": [
       "FloatProgress(value=0.0, bar_style='info', description='Progress:', layout=Layout(height='25px', width='50%'),…"
      ]
     },
     "metadata": {},
     "output_type": "display_data"
    }
   ],
   "source": [
    "#Threshold for users with >1000 written reviews\n",
    "elite_user_treshold = elite_user.filter(elite_user.review_count > '1000').sort(elite_user.review_count.desc())\n",
    "other_user_treshold = other_user.filter(other_user.review_count > '1000').sort(other_user.review_count.desc())"
   ]
  },
  {
   "cell_type": "code",
   "execution_count": 60,
   "id": "f7dbc1b8",
   "metadata": {},
   "outputs": [
    {
     "data": {
      "application/vnd.jupyter.widget-view+json": {
       "model_id": "d95f11bb6702492ebfdd4abcc934b03c",
       "version_major": 2,
       "version_minor": 0
      },
      "text/plain": [
       "VBox()"
      ]
     },
     "metadata": {},
     "output_type": "display_data"
    },
    {
     "data": {
      "application/vnd.jupyter.widget-view+json": {
       "model_id": "",
       "version_major": 2,
       "version_minor": 0
      },
      "text/plain": [
       "FloatProgress(value=0.0, bar_style='info', description='Progress:', layout=Layout(height='25px', width='50%'),…"
      ]
     },
     "metadata": {},
     "output_type": "display_data"
    }
   ],
   "source": [
    "#calculate the ratio of useful reviews count and total # of written reviews for elite users\n",
    "elite_ratio = elite_user_treshold.withColumn('ratio of useful/ttl reviews', ( elite_user_treshold['useful'] / elite_user_treshold['review_count'] ))"
   ]
  },
  {
   "cell_type": "code",
   "execution_count": 61,
   "id": "f39d37ac",
   "metadata": {},
   "outputs": [
    {
     "data": {
      "application/vnd.jupyter.widget-view+json": {
       "model_id": "cc1441257ef142cbb142083ca697e6af",
       "version_major": 2,
       "version_minor": 0
      },
      "text/plain": [
       "VBox()"
      ]
     },
     "metadata": {},
     "output_type": "display_data"
    },
    {
     "data": {
      "application/vnd.jupyter.widget-view+json": {
       "model_id": "",
       "version_major": 2,
       "version_minor": 0
      },
      "text/plain": [
       "FloatProgress(value=0.0, bar_style='info', description='Progress:', layout=Layout(height='25px', width='50%'),…"
      ]
     },
     "metadata": {},
     "output_type": "display_data"
    }
   ],
   "source": [
    "#calculate the ratio of useful review count and total # of written reviews for non-elite users\n",
    "users_ratio = other_user_treshold.withColumn('ratio of useful/ttl reviews', ( other_user_treshold['useful'] / other_user_treshold['review_count'] ))"
   ]
  },
  {
   "cell_type": "code",
   "execution_count": 62,
   "id": "266689fd",
   "metadata": {},
   "outputs": [
    {
     "data": {
      "application/vnd.jupyter.widget-view+json": {
       "model_id": "b23c16ee24d0406fa22bf3e905bd9593",
       "version_major": 2,
       "version_minor": 0
      },
      "text/plain": [
       "VBox()"
      ]
     },
     "metadata": {},
     "output_type": "display_data"
    },
    {
     "data": {
      "application/vnd.jupyter.widget-view+json": {
       "model_id": "",
       "version_major": 2,
       "version_minor": 0
      },
      "text/plain": [
       "FloatProgress(value=0.0, bar_style='info', description='Progress:', layout=Layout(height='25px', width='50%'),…"
      ]
     },
     "metadata": {},
     "output_type": "display_data"
    }
   ],
   "source": [
    "elite_tb = elite_ratio.select(\"ratio of useful/ttl reviews\", \"stars\")\n",
    "users_tb = users_ratio.select(\"ratio of useful/ttl reviews\", \"stars\")"
   ]
  },
  {
   "cell_type": "code",
   "execution_count": 63,
   "id": "d9fd064e",
   "metadata": {},
   "outputs": [
    {
     "data": {
      "application/vnd.jupyter.widget-view+json": {
       "model_id": "032653e319704491bf3eee36c6fb43ac",
       "version_major": 2,
       "version_minor": 0
      },
      "text/plain": [
       "VBox()"
      ]
     },
     "metadata": {},
     "output_type": "display_data"
    },
    {
     "data": {
      "application/vnd.jupyter.widget-view+json": {
       "model_id": "",
       "version_major": 2,
       "version_minor": 0
      },
      "text/plain": [
       "FloatProgress(value=0.0, bar_style='info', description='Progress:', layout=Layout(height='25px', width='50%'),…"
      ]
     },
     "metadata": {},
     "output_type": "display_data"
    }
   ],
   "source": [
    "elite_tb1 = elite_tb.toPandas()\n",
    "users_tb1 = users_tb.toPandas()"
   ]
  },
  {
   "cell_type": "code",
   "execution_count": 66,
   "id": "cc53489e",
   "metadata": {},
   "outputs": [
    {
     "data": {
      "application/vnd.jupyter.widget-view+json": {
       "model_id": "ffde994a24eb408693ee6c745144b4f7",
       "version_major": 2,
       "version_minor": 0
      },
      "text/plain": [
       "VBox()"
      ]
     },
     "metadata": {},
     "output_type": "display_data"
    },
    {
     "data": {
      "application/vnd.jupyter.widget-view+json": {
       "model_id": "",
       "version_major": 2,
       "version_minor": 0
      },
      "text/plain": [
       "FloatProgress(value=0.0, bar_style='info', description='Progress:', layout=Layout(height='25px', width='50%'),…"
      ]
     },
     "metadata": {},
     "output_type": "display_data"
    },
    {
     "data": {
      "image/png": "[encoded data removed]",
      "text/plain": [
       "<IPython.core.display.Image object>"
      ]
     },
     "metadata": {},
     "output_type": "display_data"
    }
   ],
   "source": [
    "# comparative visualization Elite users vs Non-elite users\n",
    "fig, ax=plt.subplots(figsize=(10,6))\n",
    "sb.jointplot(users_tb1[\"ratio of useful/ttl reviews\"], users_tb1[\"stars\"]).set_axis_labels(xlabel=\"User ratio of useful/ttl reviews\", ylabel=\"Review Star Rating\", size=10)\n",
    "%matplot plt"
   ]
  },
  {
   "cell_type": "code",
   "execution_count": 67,
   "id": "c867c1c0",
   "metadata": {},
   "outputs": [
    {
     "data": {
      "application/vnd.jupyter.widget-view+json": {
       "model_id": "33eadd851910409798abd1c13b84ec71",
       "version_major": 2,
       "version_minor": 0
      },
      "text/plain": [
       "VBox()"
      ]
     },
     "metadata": {},
     "output_type": "display_data"
    },
    {
     "data": {
      "application/vnd.jupyter.widget-view+json": {
       "model_id": "",
       "version_major": 2,
       "version_minor": 0
      },
      "text/plain": [
       "FloatProgress(value=0.0, bar_style='info', description='Progress:', layout=Layout(height='25px', width='50%'),…"
      ]
     },
     "metadata": {},
     "output_type": "display_data"
    },
    {
     "data": {
      "image/png": "[encoded data removed]",
      "text/plain": [
       "<IPython.core.display.Image object>"
      ]
     },
     "metadata": {},
     "output_type": "display_data"
    }
   ],
   "source": [
    "fig, ax=plt.subplots(figsize=(10,6))\n",
    "sb.jointplot(elite_tb1[\"ratio of useful/ttl reviews\"], elite_tb1[\"stars\"]).set_axis_labels(xlabel=\"User ratio of useful/ttl reviews\", ylabel=\"Review Star Rating\", size=10)\n",
    "%matplot plt"
   ]
  },
  {
   "cell_type": "markdown",
   "id": "5c378fa1",
   "metadata": {},
   "source": [
    "### FINDINGS/CONCLUSION:"
   ]
  },
  {
   "cell_type": "markdown",
   "id": "e542540b",
   "metadata": {},
   "source": [
    "On x-axis is a ratio of useful reviews total count and total # of written reviews for that specific user (the higher the ratio, more useful reviews the user provided in total)\n",
    "On y-axis is a star rating for each review.\n",
    "\n",
    "The first figure for non-elite users demonstrates that their reviews mostly are a 4-star rating. These users did not provide many useful reviews historically. The threshold for the users with a ratio on useful reviews historically is from 8 to 11. This demonstrates that non-elite users with a low ration of useful reviews historically tend to write a 4-star review more often. Mostly non-elite users that have historically the lowest ratio on review usefulness have written reviews with a 1-star rating. Only a few Non-elite reviewers that historically have the highest ratio on useful reviews did not write any a 1-star rating reviews. Therefore, non-elite reviewers leave a good rating review more often and less frequently a low rating review. All these non-elite users’ reviews do not demonstrate a high level of usefulness on average historically.\n",
    "\n",
    "The second figure for Elite users demonstrates that their reviews mostly are a 4-star rating same as with non-elite reviewers. Elite users have provided many useful reviews historically comparing to non-elite users. The threshold for the Elite users with a ratio on useful reviews historically is from 50 to 60. This demonstrates that Elite reviewers tend to leave a good review and bad reviews that are more useful to others users. \n",
    "\n",
    "In conclusion, this analysis provides some information that highlights that the Elite users have more creditability and can be trusted on their reviews.\n"
   ]
  }
 ],
 "metadata": {
  "kernelspec": {
   "display_name": "PySpark",
   "language": "",
   "name": "pysparkkernel"
  },
  "language_info": {
   "codemirror_mode": {
    "name": "python",
    "version": 2
   },
   "mimetype": "text/x-python",
   "name": "pyspark",
   "pygments_lexer": "python2"
  }
 },
 "nbformat": 4,
 "nbformat_minor": 5
}
